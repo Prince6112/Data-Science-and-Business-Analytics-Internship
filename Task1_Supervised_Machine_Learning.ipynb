{
  "nbformat": 4,
  "nbformat_minor": 0,
  "metadata": {
    "colab": {
      "name": "Task1_Supervised_Machine_Learning.ipynb",
      "provenance": [],
      "collapsed_sections": []
    },
    "kernelspec": {
      "name": "python3",
      "display_name": "Python 3"
    }
  },
  "cells": [
    {
      "cell_type": "markdown",
      "metadata": {
        "id": "ISDpZ5vZzUuz"
      },
      "source": [
        "# Task -1 Supervised Learning\r\n",
        "Name : **Prince Samuvel S**\r\n",
        "\r\n",
        "Role : **Data Science and Business Analyst**\r\n",
        "\r\n"
      ]
    },
    {
      "cell_type": "markdown",
      "metadata": {
        "id": "nwzI37oD0YYf"
      },
      "source": [
        "## Linear Regression with Python Scikit Learn\r\n",
        "The task is to predict the percentage of an student based on the no. of study hours.\r\n",
        "This is a simple linear regression task as it involves just 2 variables"
      ]
    },
    {
      "cell_type": "code",
      "metadata": {
        "id": "pHlk3k0ay3PR"
      },
      "source": [
        "#Importing necessary libraries\r\n",
        "import pandas as pd\r\n",
        "import numpy as np\r\n",
        "import seaborn as sns\r\n",
        "import matplotlib.pyplot as plt  "
      ],
      "execution_count": 1,
      "outputs": []
    },
    {
      "cell_type": "code",
      "metadata": {
        "colab": {
          "base_uri": "https://localhost:8080/"
        },
        "id": "wNZlzx-VzFU1",
        "outputId": "1a7f94b9-bea4-4dd4-e45a-c072e0c0cc4d"
      },
      "source": [
        "#importing the data\r\n",
        "path='https://raw.githubusercontent.com/AdiPersonalWorks/Random/master/student_scores%20-%20student_scores.csv'\r\n",
        "data=pd.read_csv(path)\r\n",
        "data.describe"
      ],
      "execution_count": 2,
      "outputs": [
        {
          "output_type": "execute_result",
          "data": {
            "text/plain": [
              "<bound method NDFrame.describe of     Hours  Scores\n",
              "0     2.5      21\n",
              "1     5.1      47\n",
              "2     3.2      27\n",
              "3     8.5      75\n",
              "4     3.5      30\n",
              "5     1.5      20\n",
              "6     9.2      88\n",
              "7     5.5      60\n",
              "8     8.3      81\n",
              "9     2.7      25\n",
              "10    7.7      85\n",
              "11    5.9      62\n",
              "12    4.5      41\n",
              "13    3.3      42\n",
              "14    1.1      17\n",
              "15    8.9      95\n",
              "16    2.5      30\n",
              "17    1.9      24\n",
              "18    6.1      67\n",
              "19    7.4      69\n",
              "20    2.7      30\n",
              "21    4.8      54\n",
              "22    3.8      35\n",
              "23    6.9      76\n",
              "24    7.8      86>"
            ]
          },
          "metadata": {
            "tags": []
          },
          "execution_count": 2
        }
      ]
    },
    {
      "cell_type": "code",
      "metadata": {
        "colab": {
          "base_uri": "https://localhost:8080/"
        },
        "id": "RNaRDzqn1xzO",
        "outputId": "1144d233-0ee0-41d2-e96b-419f27e90db6"
      },
      "source": [
        "#Printing the info about the student data\r\n",
        "data.info()"
      ],
      "execution_count": 3,
      "outputs": [
        {
          "output_type": "stream",
          "text": [
            "<class 'pandas.core.frame.DataFrame'>\n",
            "RangeIndex: 25 entries, 0 to 24\n",
            "Data columns (total 2 columns):\n",
            " #   Column  Non-Null Count  Dtype  \n",
            "---  ------  --------------  -----  \n",
            " 0   Hours   25 non-null     float64\n",
            " 1   Scores  25 non-null     int64  \n",
            "dtypes: float64(1), int64(1)\n",
            "memory usage: 528.0 bytes\n"
          ],
          "name": "stdout"
        }
      ]
    },
    {
      "cell_type": "code",
      "metadata": {
        "colab": {
          "base_uri": "https://localhost:8080/"
        },
        "id": "dYYrd4NH2NjV",
        "outputId": "1606c2b2-1626-4841-fb29-dc32fb43f4bf"
      },
      "source": [
        "#Printing the shape of the student data\r\n",
        "data.shape"
      ],
      "execution_count": 4,
      "outputs": [
        {
          "output_type": "execute_result",
          "data": {
            "text/plain": [
              "(25, 2)"
            ]
          },
          "metadata": {
            "tags": []
          },
          "execution_count": 4
        }
      ]
    },
    {
      "cell_type": "code",
      "metadata": {
        "colab": {
          "base_uri": "https://localhost:8080/",
          "height": 295
        },
        "id": "zeaAzhP11Kr2",
        "outputId": "427220a0-b1ed-41b8-b4b1-c9f9621760a1"
      },
      "source": [
        "# Plotting the distribution of scores using pyplot\r\n",
        "data.plot(x='Hours', y='Scores', style='ro')  \r\n",
        "plt.title('Hours vs Percentage')  \r\n",
        "plt.xlabel('Hours Studied')  \r\n",
        "plt.ylabel('Percentage Score')  \r\n",
        "plt.show()"
      ],
      "execution_count": 5,
      "outputs": [
        {
          "output_type": "display_data",
          "data": {
            "image/png": "[encoded data removed]",
            "text/plain": [
              "<Figure size 432x288 with 1 Axes>"
            ]
          },
          "metadata": {
            "tags": [],
            "needs_background": "light"
          }
        }
      ]
    },
    {
      "cell_type": "code",
      "metadata": {
        "colab": {
          "base_uri": "https://localhost:8080/",
          "height": 281
        },
        "id": "82f9UYnf1hDB",
        "outputId": "8c8d87fb-9a4f-44d7-e6ae-a3e453353eb6"
      },
      "source": [
        "#Plotting the student hours vs percentage using box plot\r\n",
        "data_scores = data['Scores']\r\n",
        "data_scores.plot(kind='box', figsize=(6, 4))\r\n",
        "plt.title('Box plot for the Hours vs Scores')\r\n",
        "plt.ylabel('Scores based on no. of hours')\r\n",
        "plt.show()"
      ],
      "execution_count": 6,
      "outputs": [
        {
          "output_type": "display_data",
          "data": {
            "image/png": "[encoded data removed]",
            "text/plain": [
              "<Figure size 432x288 with 1 Axes>"
            ]
          },
          "metadata": {
            "tags": [],
            "needs_background": "light"
          }
        }
      ]
    },
    {
      "cell_type": "markdown",
      "metadata": {
        "id": "uqD0xtaggQZN"
      },
      "source": [
        "### Plotting the Correlation Matrix"
      ]
    },
    {
      "cell_type": "code",
      "metadata": {
        "colab": {
          "base_uri": "https://localhost:8080/",
          "height": 286
        },
        "id": "jFKmHxfG1oss",
        "outputId": "533adbf3-db53-4144-e25d-8fb7c483e55c"
      },
      "source": [
        "#vizualising the corelation between the data using Seaborn\r\n",
        "correlation=data.corr()\r\n",
        "sns.heatmap(correlation,annot=True)"
      ],
      "execution_count": 7,
      "outputs": [
        {
          "output_type": "execute_result",
          "data": {
            "text/plain": [
              "<matplotlib.axes._subplots.AxesSubplot at 0x7f5141fcc9e8>"
            ]
          },
          "metadata": {
            "tags": []
          },
          "execution_count": 7
        },
        {
          "output_type": "display_data",
          "data": {
            "image/png": "[encoded data removed]",
            "text/plain": [
              "<Figure size 432x288 with 2 Axes>"
            ]
          },
          "metadata": {
            "tags": [],
            "needs_background": "light"
          }
        }
      ]
    },
    {
      "cell_type": "markdown",
      "metadata": {
        "id": "a9Z8jmNqgbo4"
      },
      "source": [
        "## Spliting the Data as Train and Test with 80:20 ratio"
      ]
    },
    {
      "cell_type": "code",
      "metadata": {
        "id": "MKNU-nH-3k_X"
      },
      "source": [
        "#Splititng the data as X and Y\r\n",
        "x = data.iloc[:, :-1].values  \r\n",
        "y = data.iloc[:, 1].values  "
      ],
      "execution_count": 8,
      "outputs": []
    },
    {
      "cell_type": "code",
      "metadata": {
        "colab": {
          "base_uri": "https://localhost:8080/"
        },
        "id": "9u5Pdrl7_9C5",
        "outputId": "a2325ca8-4a63-4599-a6d0-252e138511e1"
      },
      "source": [
        "#Spliting the data as test and train\r\n",
        "from sklearn.model_selection import train_test_split\r\n",
        "x_train,x_test,y_train,y_test=train_test_split(x,y,train_size=0.8,random_state=2)\r\n",
        "print(x_train.shape)\r\n",
        "print(y_train.shape)\r\n",
        "print(x_test.shape)\r\n",
        "print(y_test.shape)"
      ],
      "execution_count": 9,
      "outputs": [
        {
          "output_type": "stream",
          "text": [
            "(20, 1)\n",
            "(20,)\n",
            "(5, 1)\n",
            "(5,)\n"
          ],
          "name": "stdout"
        }
      ]
    },
    {
      "cell_type": "markdown",
      "metadata": {
        "id": "HWxFxtkd7ygS"
      },
      "source": [
        "## Fitting the Linear Regression Model"
      ]
    },
    {
      "cell_type": "code",
      "metadata": {
        "colab": {
          "base_uri": "https://localhost:8080/"
        },
        "id": "JXv8imG44VFM",
        "outputId": "6f3970d4-4699-485f-9f4a-7de307ec146c"
      },
      "source": [
        "#Importing the required library and fitting the linear regression model with the data\r\n",
        "from sklearn.linear_model import LinearRegression\r\n",
        "model=LinearRegression(normalize=False)\r\n",
        "model.fit(x_train,y_train)"
      ],
      "execution_count": 10,
      "outputs": [
        {
          "output_type": "execute_result",
          "data": {
            "text/plain": [
              "LinearRegression(copy_X=True, fit_intercept=True, n_jobs=None, normalize=False)"
            ]
          },
          "metadata": {
            "tags": []
          },
          "execution_count": 10
        }
      ]
    },
    {
      "cell_type": "code",
      "metadata": {
        "id": "kXtjhVXP4icB",
        "colab": {
          "base_uri": "https://localhost:8080/"
        },
        "outputId": "8c6dff7a-612b-492f-e1e9-6b66a501a0c5"
      },
      "source": [
        "#Predicting the values\r\n",
        "pred=model.predict(x_test)\r\n",
        "print(pred)"
      ],
      "execution_count": 11,
      "outputs": [
        {
          "output_type": "stream",
          "text": [
            "[12.44258714 26.35944834 20.39507925 92.9615698  70.09815497]\n"
          ],
          "name": "stdout"
        }
      ]
    },
    {
      "cell_type": "markdown",
      "metadata": {
        "id": "E65hAsxwgoOt"
      },
      "source": [
        "## Measuring the error using mean absolute error"
      ]
    },
    {
      "cell_type": "code",
      "metadata": {
        "colab": {
          "base_uri": "https://localhost:8080/"
        },
        "id": "snUYTOou4um3",
        "outputId": "4995ff45-4db3-4c12-ca8d-99186cb05a9e"
      },
      "source": [
        "#Examining the accuracy of our model using mean absolute error\r\n",
        "from sklearn.metrics import mean_absolute_error\r\n",
        "print(mean_absolute_error(pred,y_test))"
      ],
      "execution_count": 12,
      "outputs": [
        {
          "output_type": "stream",
          "text": [
            "4.877039354964476\n"
          ],
          "name": "stdout"
        }
      ]
    },
    {
      "cell_type": "code",
      "metadata": {
        "id": "blgQJltv4xXk",
        "colab": {
          "base_uri": "https://localhost:8080/",
          "height": 458
        },
        "outputId": "55dca2b6-8440-42cf-9c78-313faa38fb31"
      },
      "source": [
        "# Plotting for the Regression Line\r\n",
        "plt.figure(figsize=(9,7))\r\n",
        "plt.scatter(x, y)\r\n",
        "plt.plot(x_test, pred);\r\n",
        "plt.title(\"Regression Line\")\r\n",
        "plt.xlabel('Hours Studied')  \r\n",
        "plt.ylabel('Score') \r\n",
        "plt.show()"
      ],
      "execution_count": 13,
      "outputs": [
        {
          "output_type": "display_data",
          "data": {
            "image/png": "[encoded data removed]",
            "text/plain": [
              "<Figure size 648x504 with 1 Axes>"
            ]
          },
          "metadata": {
            "tags": [],
            "needs_background": "light"
          }
        }
      ]
    },
    {
      "cell_type": "code",
      "metadata": {
        "colab": {
          "base_uri": "https://localhost:8080/",
          "height": 195
        },
        "id": "PLlnZ5KP8UyJ",
        "outputId": "f84977b3-7300-4e72-ac52-d7c419cadddc"
      },
      "source": [
        "#Making the Actual Scores, Predicted Scores and Difference in a single data frame\r\n",
        "pred=[round(x) for x in pred]\r\n",
        "df = pd.DataFrame({'Actual Scores': y_test, 'Predicted Scores': pred, 'Difference':y_test-pred})  \r\n",
        "df.head()"
      ],
      "execution_count": 14,
      "outputs": [
        {
          "output_type": "execute_result",
          "data": {
            "text/html": [
              "<div>\n",
              "<style scoped>\n",
              "    .dataframe tbody tr th:only-of-type {\n",
              "        vertical-align: middle;\n",
              "    }\n",
              "\n",
              "    .dataframe tbody tr th {\n",
              "        vertical-align: top;\n",
              "    }\n",
              "\n",
              "    .dataframe thead th {\n",
              "        text-align: right;\n",
              "    }\n",
              "</style>\n",
              "<table border=\"1\" class=\"dataframe\">\n",
              "  <thead>\n",
              "    <tr style=\"text-align: right;\">\n",
              "      <th></th>\n",
              "      <th>Actual Scores</th>\n",
              "      <th>Predicted Scores</th>\n",
              "      <th>Difference</th>\n",
              "    </tr>\n",
              "  </thead>\n",
              "  <tbody>\n",
              "    <tr>\n",
              "      <th>0</th>\n",
              "      <td>17</td>\n",
              "      <td>12</td>\n",
              "      <td>5</td>\n",
              "    </tr>\n",
              "    <tr>\n",
              "      <th>1</th>\n",
              "      <td>21</td>\n",
              "      <td>26</td>\n",
              "      <td>-5</td>\n",
              "    </tr>\n",
              "    <tr>\n",
              "      <th>2</th>\n",
              "      <td>24</td>\n",
              "      <td>20</td>\n",
              "      <td>4</td>\n",
              "    </tr>\n",
              "    <tr>\n",
              "      <th>3</th>\n",
              "      <td>88</td>\n",
              "      <td>93</td>\n",
              "      <td>-5</td>\n",
              "    </tr>\n",
              "    <tr>\n",
              "      <th>4</th>\n",
              "      <td>76</td>\n",
              "      <td>70</td>\n",
              "      <td>6</td>\n",
              "    </tr>\n",
              "  </tbody>\n",
              "</table>\n",
              "</div>"
            ],
            "text/plain": [
              "   Actual Scores  Predicted Scores  Difference\n",
              "0             17                12           5\n",
              "1             21                26          -5\n",
              "2             24                20           4\n",
              "3             88                93          -5\n",
              "4             76                70           6"
            ]
          },
          "metadata": {
            "tags": []
          },
          "execution_count": 14
        }
      ]
    },
    {
      "cell_type": "markdown",
      "metadata": {
        "id": "qN0xwdFl-D7e"
      },
      "source": [
        "# Predicting the Score\r\n",
        "What will be predicted score if a student studies for 9.25 hrs/ day?"
      ]
    },
    {
      "cell_type": "code",
      "metadata": {
        "colab": {
          "base_uri": "https://localhost:8080/"
        },
        "id": "sWaxCf1y8k2e",
        "outputId": "75b0133b-1f33-4dd0-ec13-9c0ca916e7c8"
      },
      "source": [
        "predicted=model.predict([[9.25]])\r\n",
        "print(\"The percentage of marks expected to score by the person is\",int(predicted))"
      ],
      "execution_count": 15,
      "outputs": [
        {
          "output_type": "stream",
          "text": [
            "The percentage of marks expected to score by the person is 93\n"
          ],
          "name": "stdout"
        }
      ]
    },
    {
      "cell_type": "markdown",
      "metadata": {
        "id": "vdNDpPHxEc3N"
      },
      "source": [
        "Conclusion: From the Mean Absolute Error we can identify a **94%** accuracy for our prediction model"
      ]
    }
  ]
}