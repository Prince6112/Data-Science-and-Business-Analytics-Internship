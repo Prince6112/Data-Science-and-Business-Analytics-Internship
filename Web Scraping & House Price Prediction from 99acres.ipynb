{
 "cells": [
  {
   "cell_type": "markdown",
   "metadata": {},
   "source": [
    "# Web Scrapping 99acres.com & Building Model to Predict House Pricing\n"
   ]
  },
  {
   "cell_type": "markdown",
   "metadata": {},
   "source": [
    "# Part 1 - Web Scrapping"
   ]
  },
  {
   "cell_type": "code",
   "execution_count": 1,
   "metadata": {},
   "outputs": [],
   "source": [
    "#Importing the libraries for web scrapping\n",
    "from selenium import webdriver\n",
    "from bs4 import BeautifulSoup\n",
    "import requests"
   ]
  },
  {
   "cell_type": "code",
   "execution_count": 2,
   "metadata": {},
   "outputs": [
    {
     "name": "stdout",
     "output_type": "stream",
     "text": [
      "['Ambrosia Alley', 'Ambrosia Alley', 'Unika', 'Unika', 'Nyati Evolve', 'Nyati Evolve', 'Shapoorji Joyville Hadapsar Annexe', 'Shapoorji Joyville Hadapsar Annexe', 'Shapoorji Joyville Hadapsar Annexe', 'Shapoorji Joyville Hadapsar Annexe', 'Kumar Pebble Park', 'Ratan Neptune', 'Ratan Neptune', 'Shapoorji Joyville Hadapsar Annexe', 'Shapoorji Joyville Hadapsar Annexe', 'Marvel Bounty', 'Shapoorji Joyville Hadapsar Annexe', 'Shapoorji Joyville Hadapsar Annexe', 'Shapoorji Joyville Hadapsar Annexe', 'Godrej River Greens', 'Godrej River Greens', 'Kalpataru Serenity', 'Kalpataru Serenity', 'Kalpataru Serenity', 'Kalpataru Serenity', 'Kalpataru Serenity', 'Ambrosia Alley', 'Ambrosia Alley', 'Unika', 'Unika', 'Nyati Evolve', 'Nyati Evolve', 'Shapoorji Joyville Hadapsar Annexe', 'Shapoorji Joyville Hadapsar Annexe', 'Shapoorji Joyville Hadapsar Annexe', 'Shapoorji Joyville Hadapsar Annexe', 'Kumar Pebble Park', 'Ratan Neptune', 'Ratan Neptune', 'Shapoorji Joyville Hadapsar Annexe', 'Shapoorji Joyville Hadapsar Annexe', 'Marvel Bounty', 'Shapoorji Joyville Hadapsar Annexe', 'Shapoorji Joyville Hadapsar Annexe', 'Shapoorji Joyville Hadapsar Annexe', 'Godrej River Greens', 'Godrej River Greens', 'Kalpataru Serenity', 'Kalpataru Serenity', 'Kalpataru Serenity', 'Kalpataru Serenity', 'Kalpataru Serenity', 'Ambrosia Alley', 'Ambrosia Alley', 'Unika', 'Unika', 'Nyati Evolve', 'Nyati Evolve', 'Shapoorji Joyville Hadapsar Annexe', 'Shapoorji Joyville Hadapsar Annexe', 'Shapoorji Joyville Hadapsar Annexe', 'Shapoorji Joyville Hadapsar Annexe', 'Kumar Pebble Park', 'Ratan Neptune', 'Ratan Neptune', 'Shapoorji Joyville Hadapsar Annexe', 'Shapoorji Joyville Hadapsar Annexe', 'Marvel Bounty', 'Shapoorji Joyville Hadapsar Annexe', 'Shapoorji Joyville Hadapsar Annexe', 'Shapoorji Joyville Hadapsar Annexe', 'Godrej River Greens', 'Godrej River Greens', 'Kalpataru Serenity', 'Kalpataru Serenity', 'Kalpataru Serenity', 'Kalpataru Serenity', 'Kalpataru Serenity', 'Ambrosia Alley', 'Ambrosia Alley', 'Unika', 'Unika', 'Nyati Evolve', 'Nyati Evolve', 'Shapoorji Joyville Hadapsar Annexe', 'Shapoorji Joyville Hadapsar Annexe', 'Shapoorji Joyville Hadapsar Annexe', 'Shapoorji Joyville Hadapsar Annexe', 'Kumar Pebble Park', 'Ratan Neptune', 'Ratan Neptune', 'Shapoorji Joyville Hadapsar Annexe', 'Shapoorji Joyville Hadapsar Annexe', 'Marvel Bounty', 'Shapoorji Joyville Hadapsar Annexe', 'Shapoorji Joyville Hadapsar Annexe', 'Shapoorji Joyville Hadapsar Annexe', 'Godrej River Greens', 'Godrej River Greens', 'Kalpataru Serenity', 'Kalpataru Serenity', 'Kalpataru Serenity', 'Kalpataru Serenity', 'Kalpataru Serenity', 'Ambrosia Alley', 'Ambrosia Alley', 'Unika', 'Unika', 'Nyati Evolve', 'Nyati Evolve', 'Shapoorji Joyville Hadapsar Annexe', 'Shapoorji Joyville Hadapsar Annexe', 'Shapoorji Joyville Hadapsar Annexe', 'Shapoorji Joyville Hadapsar Annexe', 'Kumar Pebble Park', 'Ratan Neptune', 'Ratan Neptune', 'Shapoorji Joyville Hadapsar Annexe', 'Shapoorji Joyville Hadapsar Annexe', 'Marvel Bounty', 'Shapoorji Joyville Hadapsar Annexe', 'Shapoorji Joyville Hadapsar Annexe', 'Shapoorji Joyville Hadapsar Annexe', 'Godrej River Greens', 'Godrej River Greens', 'Kalpataru Serenity', 'Kalpataru Serenity', 'Kalpataru Serenity', 'Kalpataru Serenity', 'Kalpataru Serenity', 'Ambrosia Alley', 'Ambrosia Alley', 'Unika', 'Unika', 'Nyati Evolve', 'Nyati Evolve', 'Shapoorji Joyville Hadapsar Annexe', 'Shapoorji Joyville Hadapsar Annexe', 'Shapoorji Joyville Hadapsar Annexe', 'Shapoorji Joyville Hadapsar Annexe', 'Kumar Pebble Park', 'Ratan Neptune', 'Ratan Neptune', 'Shapoorji Joyville Hadapsar Annexe', 'Shapoorji Joyville Hadapsar Annexe', 'Marvel Bounty', 'Shapoorji Joyville Hadapsar Annexe', 'Shapoorji Joyville Hadapsar Annexe', 'Shapoorji Joyville Hadapsar Annexe', 'Godrej River Greens', 'Godrej River Greens', 'Kalpataru Serenity', 'Kalpataru Serenity', 'Kalpataru Serenity', 'Kalpataru Serenity', 'Kalpataru Serenity', 'Ambrosia Alley', 'Ambrosia Alley', 'Unika', 'Unika', 'Nyati Evolve', 'Nyati Evolve', 'Shapoorji Joyville Hadapsar Annexe', 'Shapoorji Joyville Hadapsar Annexe', 'Shapoorji Joyville Hadapsar Annexe', 'Shapoorji Joyville Hadapsar Annexe', 'Kumar Pebble Park', 'Ratan Neptune', 'Ratan Neptune', 'Shapoorji Joyville Hadapsar Annexe', 'Shapoorji Joyville Hadapsar Annexe', 'Marvel Bounty', 'Shapoorji Joyville Hadapsar Annexe', 'Shapoorji Joyville Hadapsar Annexe', 'Shapoorji Joyville Hadapsar Annexe', 'Godrej River Greens', 'Godrej River Greens', 'Kalpataru Serenity', 'Kalpataru Serenity', 'Kalpataru Serenity', 'Kalpataru Serenity', 'Kalpataru Serenity', 'Ambrosia Alley', 'Ambrosia Alley', 'Unika', 'Unika', 'Nyati Evolve', 'Nyati Evolve', 'Shapoorji Joyville Hadapsar Annexe', 'Shapoorji Joyville Hadapsar Annexe', 'Shapoorji Joyville Hadapsar Annexe', 'Shapoorji Joyville Hadapsar Annexe', 'Kumar Pebble Park', 'Ratan Neptune', 'Ratan Neptune', 'Shapoorji Joyville Hadapsar Annexe', 'Shapoorji Joyville Hadapsar Annexe', 'Marvel Bounty', 'Shapoorji Joyville Hadapsar Annexe', 'Shapoorji Joyville Hadapsar Annexe', 'Shapoorji Joyville Hadapsar Annexe', 'Godrej River Greens', 'Godrej River Greens', 'Kalpataru Serenity', 'Kalpataru Serenity', 'Kalpataru Serenity', 'Kalpataru Serenity', 'Kalpataru Serenity', 'Ambrosia Alley', 'Ambrosia Alley', 'Unika', 'Unika', 'Nyati Evolve', 'Nyati Evolve', 'Shapoorji Joyville Hadapsar Annexe', 'Shapoorji Joyville Hadapsar Annexe', 'Shapoorji Joyville Hadapsar Annexe', 'Shapoorji Joyville Hadapsar Annexe', 'Kumar Pebble Park', 'Ratan Neptune', 'Ratan Neptune', 'Shapoorji Joyville Hadapsar Annexe', 'Shapoorji Joyville Hadapsar Annexe', 'Marvel Bounty', 'Shapoorji Joyville Hadapsar Annexe', 'Shapoorji Joyville Hadapsar Annexe', 'Shapoorji Joyville Hadapsar Annexe', 'Godrej River Greens', 'Godrej River Greens', 'Kalpataru Serenity', 'Kalpataru Serenity', 'Kalpataru Serenity', 'Kalpataru Serenity', 'Kalpataru Serenity', 'Ambrosia Alley', 'Ambrosia Alley', 'Unika', 'Unika', 'Nyati Evolve', 'Nyati Evolve', 'Shapoorji Joyville Hadapsar Annexe', 'Shapoorji Joyville Hadapsar Annexe', 'Shapoorji Joyville Hadapsar Annexe', 'Shapoorji Joyville Hadapsar Annexe', 'Kumar Pebble Park', 'Ratan Neptune', 'Ratan Neptune', 'Shapoorji Joyville Hadapsar Annexe', 'Shapoorji Joyville Hadapsar Annexe', 'Marvel Bounty', 'Shapoorji Joyville Hadapsar Annexe', 'Shapoorji Joyville Hadapsar Annexe', 'Shapoorji Joyville Hadapsar Annexe', 'Godrej River Greens', 'Godrej River Greens', 'Kalpataru Serenity', 'Kalpataru Serenity', 'Kalpataru Serenity', 'Kalpataru Serenity', 'Kalpataru Serenity', 'Ambrosia Alley', 'Ambrosia Alley', 'Unika', 'Unika', 'Nyati Evolve', 'Nyati Evolve', 'Shapoorji Joyville Hadapsar Annexe', 'Shapoorji Joyville Hadapsar Annexe', 'Shapoorji Joyville Hadapsar Annexe', 'Shapoorji Joyville Hadapsar Annexe', 'Kumar Pebble Park', 'Ratan Neptune', 'Ratan Neptune', 'Shapoorji Joyville Hadapsar Annexe', 'Shapoorji Joyville Hadapsar Annexe', 'Marvel Bounty', 'Shapoorji Joyville Hadapsar Annexe', 'Shapoorji Joyville Hadapsar Annexe', 'Shapoorji Joyville Hadapsar Annexe', 'Godrej River Greens', 'Godrej River Greens', 'Kalpataru Serenity', 'Kalpataru Serenity', 'Kalpataru Serenity', 'Kalpataru Serenity', 'Kalpataru Serenity', 'Ambrosia Alley', 'Ambrosia Alley', 'Unika', 'Unika', 'Nyati Evolve', 'Nyati Evolve', 'Shapoorji Joyville Hadapsar Annexe', 'Shapoorji Joyville Hadapsar Annexe', 'Shapoorji Joyville Hadapsar Annexe', 'Shapoorji Joyville Hadapsar Annexe', 'Kumar Pebble Park', 'Ratan Neptune', 'Ratan Neptune', 'Shapoorji Joyville Hadapsar Annexe', 'Shapoorji Joyville Hadapsar Annexe', 'Marvel Bounty', 'Shapoorji Joyville Hadapsar Annexe', 'Shapoorji Joyville Hadapsar Annexe', 'Shapoorji Joyville Hadapsar Annexe', 'Godrej River Greens', 'Godrej River Greens', 'Kalpataru Serenity', 'Kalpataru Serenity', 'Kalpataru Serenity', 'Kalpataru Serenity', 'Kalpataru Serenity', 'Ambrosia Alley', 'Ambrosia Alley', 'Unika', 'Unika', 'Nyati Evolve', 'Nyati Evolve', 'Shapoorji Joyville Hadapsar Annexe', 'Shapoorji Joyville Hadapsar Annexe', 'Shapoorji Joyville Hadapsar Annexe', 'Shapoorji Joyville Hadapsar Annexe', 'Kumar Pebble Park', 'Ratan Neptune', 'Ratan Neptune', 'Shapoorji Joyville Hadapsar Annexe', 'Shapoorji Joyville Hadapsar Annexe', 'Marvel Bounty', 'Shapoorji Joyville Hadapsar Annexe', 'Shapoorji Joyville Hadapsar Annexe', 'Shapoorji Joyville Hadapsar Annexe', 'Godrej River Greens', 'Godrej River Greens', 'Kalpataru Serenity', 'Kalpataru Serenity', 'Kalpataru Serenity', 'Kalpataru Serenity', 'Kalpataru Serenity', 'Ambrosia Alley', 'Ambrosia Alley', 'Unika', 'Unika', 'Nyati Evolve', 'Nyati Evolve', 'Shapoorji Joyville Hadapsar Annexe', 'Shapoorji Joyville Hadapsar Annexe', 'Shapoorji Joyville Hadapsar Annexe', 'Shapoorji Joyville Hadapsar Annexe', 'Kumar Pebble Park', 'Ratan Neptune', 'Ratan Neptune', 'Shapoorji Joyville Hadapsar Annexe', 'Shapoorji Joyville Hadapsar Annexe', 'Marvel Bounty', 'Shapoorji Joyville Hadapsar Annexe', 'Shapoorji Joyville Hadapsar Annexe', 'Shapoorji Joyville Hadapsar Annexe', 'Godrej River Greens', 'Godrej River Greens', 'Kalpataru Serenity', 'Kalpataru Serenity', 'Kalpataru Serenity', 'Kalpataru Serenity', 'Kalpataru Serenity', 'Ambrosia Alley', 'Ambrosia Alley', 'Unika', 'Unika', 'Nyati Evolve', 'Nyati Evolve', 'Shapoorji Joyville Hadapsar Annexe', 'Shapoorji Joyville Hadapsar Annexe', 'Shapoorji Joyville Hadapsar Annexe', 'Shapoorji Joyville Hadapsar Annexe', 'Kumar Pebble Park', 'Ratan Neptune', 'Ratan Neptune', 'Shapoorji Joyville Hadapsar Annexe', 'Shapoorji Joyville Hadapsar Annexe', 'Marvel Bounty', 'Shapoorji Joyville Hadapsar Annexe', 'Shapoorji Joyville Hadapsar Annexe', 'Shapoorji Joyville Hadapsar Annexe', 'Godrej River Greens', 'Godrej River Greens', 'Kalpataru Serenity', 'Kalpataru Serenity', 'Kalpataru Serenity', 'Kalpataru Serenity', 'Kalpataru Serenity', 'Ambrosia Alley', 'Ambrosia Alley', 'Unika', 'Unika', 'Nyati Evolve', 'Nyati Evolve', 'Shapoorji Joyville Hadapsar Annexe', 'Shapoorji Joyville Hadapsar Annexe', 'Shapoorji Joyville Hadapsar Annexe', 'Shapoorji Joyville Hadapsar Annexe', 'Kumar Pebble Park', 'Ratan Neptune', 'Ratan Neptune', 'Shapoorji Joyville Hadapsar Annexe', 'Shapoorji Joyville Hadapsar Annexe', 'Marvel Bounty', 'Shapoorji Joyville Hadapsar Annexe', 'Shapoorji Joyville Hadapsar Annexe', 'Shapoorji Joyville Hadapsar Annexe', 'Godrej River Greens', 'Godrej River Greens', 'Kalpataru Serenity', 'Kalpataru Serenity', 'Kalpataru Serenity', 'Kalpataru Serenity', 'Kalpataru Serenity', 'Ambrosia Alley', 'Ambrosia Alley', 'Unika', 'Unika', 'Nyati Evolve', 'Nyati Evolve', 'Shapoorji Joyville Hadapsar Annexe', 'Shapoorji Joyville Hadapsar Annexe', 'Shapoorji Joyville Hadapsar Annexe', 'Shapoorji Joyville Hadapsar Annexe', 'Kumar Pebble Park', 'Ratan Neptune', 'Ratan Neptune', 'Shapoorji Joyville Hadapsar Annexe', 'Shapoorji Joyville Hadapsar Annexe', 'Marvel Bounty', 'Shapoorji Joyville Hadapsar Annexe', 'Shapoorji Joyville Hadapsar Annexe', 'Shapoorji Joyville Hadapsar Annexe', 'Godrej River Greens', 'Godrej River Greens', 'Kalpataru Serenity', 'Kalpataru Serenity', 'Kalpataru Serenity', 'Kalpataru Serenity', 'Kalpataru Serenity', 'Ambrosia Alley', 'Ambrosia Alley', 'Unika', 'Unika', 'Nyati Evolve', 'Nyati Evolve', 'Shapoorji Joyville Hadapsar Annexe', 'Shapoorji Joyville Hadapsar Annexe', 'Shapoorji Joyville Hadapsar Annexe', 'Shapoorji Joyville Hadapsar Annexe', 'Kumar Pebble Park', 'Ratan Neptune', 'Ratan Neptune', 'Shapoorji Joyville Hadapsar Annexe', 'Shapoorji Joyville Hadapsar Annexe', 'Marvel Bounty', 'Shapoorji Joyville Hadapsar Annexe', 'Shapoorji Joyville Hadapsar Annexe', 'Shapoorji Joyville Hadapsar Annexe', 'Godrej River Greens', 'Godrej River Greens', 'Kalpataru Serenity', 'Kalpataru Serenity', 'Kalpataru Serenity', 'Kalpataru Serenity', 'Kalpataru Serenity', 'Ambrosia Alley', 'Ambrosia Alley', 'Unika', 'Unika', 'Nyati Evolve', 'Nyati Evolve', 'Shapoorji Joyville Hadapsar Annexe', 'Shapoorji Joyville Hadapsar Annexe', 'Shapoorji Joyville Hadapsar Annexe', 'Shapoorji Joyville Hadapsar Annexe', 'Kumar Pebble Park', 'Ratan Neptune', 'Ratan Neptune', 'Shapoorji Joyville Hadapsar Annexe', 'Shapoorji Joyville Hadapsar Annexe', 'Marvel Bounty', 'Shapoorji Joyville Hadapsar Annexe', 'Shapoorji Joyville Hadapsar Annexe', 'Shapoorji Joyville Hadapsar Annexe', 'Godrej River Greens', 'Godrej River Greens', 'Kalpataru Serenity', 'Kalpataru Serenity', 'Kalpataru Serenity', 'Kalpataru Serenity', 'Kalpataru Serenity', 'Ambrosia Alley', 'Ambrosia Alley', 'Unika', 'Unika', 'Nyati Evolve', 'Nyati Evolve', 'Shapoorji Joyville Hadapsar Annexe', 'Shapoorji Joyville Hadapsar Annexe', 'Shapoorji Joyville Hadapsar Annexe', 'Shapoorji Joyville Hadapsar Annexe', 'Kumar Pebble Park', 'Ratan Neptune', 'Ratan Neptune', 'Shapoorji Joyville Hadapsar Annexe', 'Shapoorji Joyville Hadapsar Annexe', 'Marvel Bounty', 'Shapoorji Joyville Hadapsar Annexe', 'Shapoorji Joyville Hadapsar Annexe', 'Shapoorji Joyville Hadapsar Annexe', 'Godrej River Greens', 'Godrej River Greens', 'Kalpataru Serenity', 'Kalpataru Serenity', 'Kalpataru Serenity', 'Kalpataru Serenity', 'Kalpataru Serenity', 'Ambrosia Alley', 'Ambrosia Alley', 'Unika', 'Unika', 'Nyati Evolve', 'Nyati Evolve', 'Shapoorji Joyville Hadapsar Annexe', 'Shapoorji Joyville Hadapsar Annexe', 'Shapoorji Joyville Hadapsar Annexe', 'Shapoorji Joyville Hadapsar Annexe', 'Kumar Pebble Park', 'Ratan Neptune', 'Ratan Neptune', 'Shapoorji Joyville Hadapsar Annexe', 'Shapoorji Joyville Hadapsar Annexe', 'Marvel Bounty', 'Shapoorji Joyville Hadapsar Annexe', 'Shapoorji Joyville Hadapsar Annexe', 'Shapoorji Joyville Hadapsar Annexe', 'Godrej River Greens', 'Godrej River Greens', 'Kalpataru Serenity', 'Kalpataru Serenity', 'Kalpataru Serenity', 'Kalpataru Serenity', 'Kalpataru Serenity', 'Ambrosia Alley', 'Ambrosia Alley', 'Unika', 'Unika', 'Nyati Evolve', 'Nyati Evolve', 'Shapoorji Joyville Hadapsar Annexe', 'Shapoorji Joyville Hadapsar Annexe', 'Shapoorji Joyville Hadapsar Annexe', 'Shapoorji Joyville Hadapsar Annexe', 'Kumar Pebble Park', 'Ratan Neptune', 'Ratan Neptune', 'Shapoorji Joyville Hadapsar Annexe', 'Shapoorji Joyville Hadapsar Annexe', 'Marvel Bounty', 'Shapoorji Joyville Hadapsar Annexe', 'Shapoorji Joyville Hadapsar Annexe', 'Shapoorji Joyville Hadapsar Annexe', 'Godrej River Greens', 'Godrej River Greens', 'Kalpataru Serenity', 'Kalpataru Serenity', 'Kalpataru Serenity', 'Kalpataru Serenity', 'Kalpataru Serenity', 'Ambrosia Alley', 'Ambrosia Alley', 'Unika', 'Unika', 'Nyati Evolve', 'Nyati Evolve', 'Shapoorji Joyville Hadapsar Annexe', 'Shapoorji Joyville Hadapsar Annexe', 'Shapoorji Joyville Hadapsar Annexe', 'Shapoorji Joyville Hadapsar Annexe', 'Kumar Pebble Park', 'Ratan Neptune', 'Ratan Neptune', 'Shapoorji Joyville Hadapsar Annexe', 'Shapoorji Joyville Hadapsar Annexe', 'Marvel Bounty', 'Shapoorji Joyville Hadapsar Annexe', 'Shapoorji Joyville Hadapsar Annexe', 'Shapoorji Joyville Hadapsar Annexe', 'Godrej River Greens', 'Godrej River Greens', 'Kalpataru Serenity', 'Kalpataru Serenity', 'Kalpataru Serenity', 'Kalpataru Serenity', 'Kalpataru Serenity', 'Ambrosia Alley', 'Ambrosia Alley', 'Unika', 'Unika', 'Nyati Evolve', 'Nyati Evolve', 'Shapoorji Joyville Hadapsar Annexe', 'Shapoorji Joyville Hadapsar Annexe', 'Shapoorji Joyville Hadapsar Annexe', 'Shapoorji Joyville Hadapsar Annexe', 'Kumar Pebble Park', 'Ratan Neptune', 'Ratan Neptune', 'Shapoorji Joyville Hadapsar Annexe', 'Shapoorji Joyville Hadapsar Annexe', 'Marvel Bounty', 'Shapoorji Joyville Hadapsar Annexe', 'Shapoorji Joyville Hadapsar Annexe', 'Shapoorji Joyville Hadapsar Annexe', 'Godrej River Greens', 'Godrej River Greens', 'Kalpataru Serenity', 'Kalpataru Serenity', 'Kalpataru Serenity', 'Kalpataru Serenity', 'Kalpataru Serenity', 'Ambrosia Alley', 'Ambrosia Alley', 'Unika', 'Unika', 'Nyati Evolve', 'Nyati Evolve', 'Shapoorji Joyville Hadapsar Annexe', 'Shapoorji Joyville Hadapsar Annexe', 'Shapoorji Joyville Hadapsar Annexe', 'Shapoorji Joyville Hadapsar Annexe', 'Kumar Pebble Park', 'Ratan Neptune', 'Ratan Neptune', 'Shapoorji Joyville Hadapsar Annexe', 'Shapoorji Joyville Hadapsar Annexe', 'Marvel Bounty', 'Shapoorji Joyville Hadapsar Annexe', 'Shapoorji Joyville Hadapsar Annexe', 'Shapoorji Joyville Hadapsar Annexe', 'Godrej River Greens', 'Godrej River Greens', 'Kalpataru Serenity', 'Kalpataru Serenity', 'Kalpataru Serenity', 'Kalpataru Serenity', 'Kalpataru Serenity']\n",
      "['2 BHK Residential Apartment in Hadapsar', '1 BHK Residential Apartment in Hadapsar', '2 BHK Residential Apartment in Hadapsar', '3 BHK Residential Apartment in Hadapsar', '3 BHK Residential Apartment in Magarpatta', '2 BHK Residential Apartment in Magarpatta', '3 BHK Residential Apartment in Shewalewadi', '2 BHK Residential Apartment in Shewalewadi', '2 BHK Residential Apartment in Shewalewadi', '1 BHK Residential Apartment in Shewalewadi', '2 BHK Residential Apartment in Hadapsar', '2 BHK Residential Apartment in Hadapsar', '1 BHK Residential Apartment in Hadapsar', '3 BHK Residential Apartment in Shewalewadi', '2 BHK Residential Apartment in Shewalewadi', '4 BHK Residential Apartment in Hadapsar', '1 BHK Residential Apartment in Shewalewadi', '3 BHK Residential Apartment in Shewalewadi', '2 BHK Residential Apartment in Shewalewadi', '2 BHK Residential Apartment in Manjri', '3 BHK Residential Apartment in Manjri', '2 BHK Residential Apartment in Manjri', '3 BHK Residential Apartment in Manjri', '2 BHK Residential Apartment in Manjri', '3 BHK Residential Apartment in Manjri', '3 BHK Residential Apartment in Manjri', '1 BHK Residential Apartment in Hadapsar', '2 BHK Residential Apartment in Hadapsar', '2 BHK Residential Apartment in Hadapsar', '3 BHK Residential Apartment in Hadapsar', '3 BHK Residential Apartment in Magarpatta', '2 BHK Residential Apartment in Magarpatta', '3 BHK Residential Apartment in Shewalewadi', '2 BHK Residential Apartment in Shewalewadi', '2 BHK Residential Apartment in Shewalewadi', '1 BHK Residential Apartment in Shewalewadi', '2 BHK Residential Apartment in Hadapsar', '2 BHK Residential Apartment in Hadapsar', '1 BHK Residential Apartment in Hadapsar', '3 BHK Residential Apartment in Shewalewadi', '2 BHK Residential Apartment in Shewalewadi', '4 BHK Residential Apartment in Hadapsar', '1 BHK Residential Apartment in Shewalewadi', '3 BHK Residential Apartment in Shewalewadi', '2 BHK Residential Apartment in Shewalewadi', '2 BHK Residential Apartment in Manjri', '3 BHK Residential Apartment in Manjri', '2 BHK Residential Apartment in Manjri', '3 BHK Residential Apartment in Manjri', '2 BHK Residential Apartment in Manjri', '3 BHK Residential Apartment in Manjri', '3 BHK Residential Apartment in Manjri', '1 BHK Residential Apartment in Hadapsar', '2 BHK Residential Apartment in Hadapsar', '2 BHK Residential Apartment in Hadapsar', '3 BHK Residential Apartment in Hadapsar', '3 BHK Residential Apartment in Magarpatta', '2 BHK Residential Apartment in Magarpatta', '3 BHK Residential Apartment in Shewalewadi', '2 BHK Residential Apartment in Shewalewadi', '2 BHK Residential Apartment in Shewalewadi', '1 BHK Residential Apartment in Shewalewadi', '2 BHK Residential Apartment in Hadapsar', '2 BHK Residential Apartment in Hadapsar', '1 BHK Residential Apartment in Hadapsar', '3 BHK Residential Apartment in Shewalewadi', '2 BHK Residential Apartment in Shewalewadi', '4 BHK Residential Apartment in Hadapsar', '1 BHK Residential Apartment in Shewalewadi', '3 BHK Residential Apartment in Shewalewadi', '2 BHK Residential Apartment in Shewalewadi', '2 BHK Residential Apartment in Manjri', '3 BHK Residential Apartment in Manjri', '2 BHK Residential Apartment in Manjri', '3 BHK Residential Apartment in Manjri', '2 BHK Residential Apartment in Manjri', '3 BHK Residential Apartment in Manjri', '3 BHK Residential Apartment in Manjri', '2 BHK Residential Apartment in Hadapsar', '1 BHK Residential Apartment in Hadapsar', '2 BHK Residential Apartment in Hadapsar', '3 BHK Residential Apartment in Hadapsar', '3 BHK Residential Apartment in Magarpatta', '2 BHK Residential Apartment in Magarpatta', '3 BHK Residential Apartment in Shewalewadi', '2 BHK Residential Apartment in Shewalewadi', '2 BHK Residential Apartment in Shewalewadi', '1 BHK Residential Apartment in Shewalewadi', '2 BHK Residential Apartment in Hadapsar', '2 BHK Residential Apartment in Hadapsar', '1 BHK Residential Apartment in Hadapsar', '3 BHK Residential Apartment in Shewalewadi', '2 BHK Residential Apartment in Shewalewadi', '4 BHK Residential Apartment in Hadapsar', '1 BHK Residential Apartment in Shewalewadi', '3 BHK Residential Apartment in Shewalewadi', '2 BHK Residential Apartment in Shewalewadi', '2 BHK Residential Apartment in Manjri', '3 BHK Residential Apartment in Manjri', '2 BHK Residential Apartment in Manjri', '3 BHK Residential Apartment in Manjri', '2 BHK Residential Apartment in Manjri', '3 BHK Residential Apartment in Manjri', '3 BHK Residential Apartment in Manjri', '2 BHK Residential Apartment in Hadapsar', '1 BHK Residential Apartment in Hadapsar', '2 BHK Residential Apartment in Hadapsar', '3 BHK Residential Apartment in Hadapsar', '3 BHK Residential Apartment in Magarpatta', '2 BHK Residential Apartment in Magarpatta', '3 BHK Residential Apartment in Shewalewadi', '2 BHK Residential Apartment in Shewalewadi', '2 BHK Residential Apartment in Shewalewadi', '1 BHK Residential Apartment in Shewalewadi', '2 BHK Residential Apartment in Hadapsar', '2 BHK Residential Apartment in Hadapsar', '1 BHK Residential Apartment in Hadapsar', '3 BHK Residential Apartment in Shewalewadi', '2 BHK Residential Apartment in Shewalewadi', '4 BHK Residential Apartment in Hadapsar', '1 BHK Residential Apartment in Shewalewadi', '3 BHK Residential Apartment in Shewalewadi', '2 BHK Residential Apartment in Shewalewadi', '2 BHK Residential Apartment in Manjri', '3 BHK Residential Apartment in Manjri', '2 BHK Residential Apartment in Manjri', '3 BHK Residential Apartment in Manjri', '2 BHK Residential Apartment in Manjri', '3 BHK Residential Apartment in Manjri', '3 BHK Residential Apartment in Manjri', '2 BHK Residential Apartment in Hadapsar', '1 BHK Residential Apartment in Hadapsar', '2 BHK Residential Apartment in Hadapsar', '3 BHK Residential Apartment in Hadapsar', '3 BHK Residential Apartment in Magarpatta', '2 BHK Residential Apartment in Magarpatta', '3 BHK Residential Apartment in Shewalewadi', '2 BHK Residential Apartment in Shewalewadi', '2 BHK Residential Apartment in Shewalewadi', '1 BHK Residential Apartment in Shewalewadi', '2 BHK Residential Apartment in Hadapsar', '2 BHK Residential Apartment in Hadapsar', '1 BHK Residential Apartment in Hadapsar', '3 BHK Residential Apartment in Shewalewadi', '2 BHK Residential Apartment in Shewalewadi', '4 BHK Residential Apartment in Hadapsar', '1 BHK Residential Apartment in Shewalewadi', '3 BHK Residential Apartment in Shewalewadi', '2 BHK Residential Apartment in Shewalewadi', '2 BHK Residential Apartment in Manjri', '3 BHK Residential Apartment in Manjri', '2 BHK Residential Apartment in Manjri', '3 BHK Residential Apartment in Manjri', '2 BHK Residential Apartment in Manjri', '3 BHK Residential Apartment in Manjri', '3 BHK Residential Apartment in Manjri', '1 BHK Residential Apartment in Hadapsar', '2 BHK Residential Apartment in Hadapsar', '2 BHK Residential Apartment in Hadapsar', '3 BHK Residential Apartment in Hadapsar', '3 BHK Residential Apartment in Magarpatta', '2 BHK Residential Apartment in Magarpatta', '3 BHK Residential Apartment in Shewalewadi', '2 BHK Residential Apartment in Shewalewadi', '2 BHK Residential Apartment in Shewalewadi', '1 BHK Residential Apartment in Shewalewadi', '2 BHK Residential Apartment in Hadapsar', '2 BHK Residential Apartment in Hadapsar', '1 BHK Residential Apartment in Hadapsar', '3 BHK Residential Apartment in Shewalewadi', '2 BHK Residential Apartment in Shewalewadi', '4 BHK Residential Apartment in Hadapsar', '1 BHK Residential Apartment in Shewalewadi', '3 BHK Residential Apartment in Shewalewadi', '2 BHK Residential Apartment in Shewalewadi', '2 BHK Residential Apartment in Manjri', '3 BHK Residential Apartment in Manjri', '2 BHK Residential Apartment in Manjri', '3 BHK Residential Apartment in Manjri', '2 BHK Residential Apartment in Manjri', '3 BHK Residential Apartment in Manjri', '3 BHK Residential Apartment in Manjri', '1 BHK Residential Apartment in Hadapsar', '2 BHK Residential Apartment in Hadapsar', '2 BHK Residential Apartment in Hadapsar', '3 BHK Residential Apartment in Hadapsar', '3 BHK Residential Apartment in Magarpatta', '2 BHK Residential Apartment in Magarpatta', '3 BHK Residential Apartment in Shewalewadi', '2 BHK Residential Apartment in Shewalewadi', '2 BHK Residential Apartment in Shewalewadi', '1 BHK Residential Apartment in Shewalewadi', '2 BHK Residential Apartment in Hadapsar', '2 BHK Residential Apartment in Hadapsar', '1 BHK Residential Apartment in Hadapsar', '3 BHK Residential Apartment in Shewalewadi', '2 BHK Residential Apartment in Shewalewadi', '4 BHK Residential Apartment in Hadapsar', '1 BHK Residential Apartment in Shewalewadi', '3 BHK Residential Apartment in Shewalewadi', '2 BHK Residential Apartment in Shewalewadi', '2 BHK Residential Apartment in Manjri', '3 BHK Residential Apartment in Manjri', '2 BHK Residential Apartment in Manjri', '3 BHK Residential Apartment in Manjri', '2 BHK Residential Apartment in Manjri', '3 BHK Residential Apartment in Manjri', '3 BHK Residential Apartment in Manjri', '2 BHK Residential Apartment in Hadapsar', '1 BHK Residential Apartment in Hadapsar', '2 BHK Residential Apartment in Hadapsar', '3 BHK Residential Apartment in Hadapsar', '3 BHK Residential Apartment in Magarpatta', '2 BHK Residential Apartment in Magarpatta', '3 BHK Residential Apartment in Shewalewadi', '2 BHK Residential Apartment in Shewalewadi', '2 BHK Residential Apartment in Shewalewadi', '1 BHK Residential Apartment in Shewalewadi', '2 BHK Residential Apartment in Hadapsar', '2 BHK Residential Apartment in Hadapsar', '1 BHK Residential Apartment in Hadapsar', '3 BHK Residential Apartment in Shewalewadi', '2 BHK Residential Apartment in Shewalewadi', '4 BHK Residential Apartment in Hadapsar', '1 BHK Residential Apartment in Shewalewadi', '3 BHK Residential Apartment in Shewalewadi', '2 BHK Residential Apartment in Shewalewadi', '2 BHK Residential Apartment in Manjri', '3 BHK Residential Apartment in Manjri', '2 BHK Residential Apartment in Manjri', '3 BHK Residential Apartment in Manjri', '2 BHK Residential Apartment in Manjri', '3 BHK Residential Apartment in Manjri', '3 BHK Residential Apartment in Manjri', '2 BHK Residential Apartment in Hadapsar', '1 BHK Residential Apartment in Hadapsar', '2 BHK Residential Apartment in Hadapsar', '3 BHK Residential Apartment in Hadapsar', '3 BHK Residential Apartment in Magarpatta', '2 BHK Residential Apartment in Magarpatta', '3 BHK Residential Apartment in Shewalewadi', '2 BHK Residential Apartment in Shewalewadi', '2 BHK Residential Apartment in Shewalewadi', '1 BHK Residential Apartment in Shewalewadi', '2 BHK Residential Apartment in Hadapsar', '2 BHK Residential Apartment in Hadapsar', '1 BHK Residential Apartment in Hadapsar', '3 BHK Residential Apartment in Shewalewadi', '2 BHK Residential Apartment in Shewalewadi', '4 BHK Residential Apartment in Hadapsar', '1 BHK Residential Apartment in Shewalewadi', '3 BHK Residential Apartment in Shewalewadi', '2 BHK Residential Apartment in Shewalewadi', '2 BHK Residential Apartment in Manjri', '3 BHK Residential Apartment in Manjri', '2 BHK Residential Apartment in Manjri', '3 BHK Residential Apartment in Manjri', '2 BHK Residential Apartment in Manjri', '3 BHK Residential Apartment in Manjri', '3 BHK Residential Apartment in Manjri', '1 BHK Residential Apartment in Hadapsar', '2 BHK Residential Apartment in Hadapsar', '2 BHK Residential Apartment in Hadapsar', '3 BHK Residential Apartment in Hadapsar', '3 BHK Residential Apartment in Magarpatta', '2 BHK Residential Apartment in Magarpatta', '3 BHK Residential Apartment in Shewalewadi', '2 BHK Residential Apartment in Shewalewadi', '2 BHK Residential Apartment in Shewalewadi', '1 BHK Residential Apartment in Shewalewadi', '2 BHK Residential Apartment in Hadapsar', '2 BHK Residential Apartment in Hadapsar', '1 BHK Residential Apartment in Hadapsar', '3 BHK Residential Apartment in Shewalewadi', '2 BHK Residential Apartment in Shewalewadi', '4 BHK Residential Apartment in Hadapsar', '1 BHK Residential Apartment in Shewalewadi', '3 BHK Residential Apartment in Shewalewadi', '2 BHK Residential Apartment in Shewalewadi', '2 BHK Residential Apartment in Manjri', '3 BHK Residential Apartment in Manjri', '2 BHK Residential Apartment in Manjri', '3 BHK Residential Apartment in Manjri', '2 BHK Residential Apartment in Manjri', '3 BHK Residential Apartment in Manjri', '3 BHK Residential Apartment in Manjri', '1 BHK Residential Apartment in Hadapsar', '2 BHK Residential Apartment in Hadapsar', '2 BHK Residential Apartment in Hadapsar', '3 BHK Residential Apartment in Hadapsar', '3 BHK Residential Apartment in Magarpatta', '2 BHK Residential Apartment in Magarpatta', '3 BHK Residential Apartment in Shewalewadi', '2 BHK Residential Apartment in Shewalewadi', '2 BHK Residential Apartment in Shewalewadi', '1 BHK Residential Apartment in Shewalewadi', '2 BHK Residential Apartment in Hadapsar', '2 BHK Residential Apartment in Hadapsar', '1 BHK Residential Apartment in Hadapsar', '3 BHK Residential Apartment in Shewalewadi', '2 BHK Residential Apartment in Shewalewadi', '4 BHK Residential Apartment in Hadapsar', '1 BHK Residential Apartment in Shewalewadi', '3 BHK Residential Apartment in Shewalewadi', '2 BHK Residential Apartment in Shewalewadi', '2 BHK Residential Apartment in Manjri', '3 BHK Residential Apartment in Manjri', '2 BHK Residential Apartment in Manjri', '3 BHK Residential Apartment in Manjri', '2 BHK Residential Apartment in Manjri', '3 BHK Residential Apartment in Manjri', '3 BHK Residential Apartment in Manjri', '1 BHK Residential Apartment in Hadapsar', '2 BHK Residential Apartment in Hadapsar', '2 BHK Residential Apartment in Hadapsar', '3 BHK Residential Apartment in Hadapsar', '3 BHK Residential Apartment in Magarpatta', '2 BHK Residential Apartment in Magarpatta', '3 BHK Residential Apartment in Shewalewadi', '2 BHK Residential Apartment in Shewalewadi', '2 BHK Residential Apartment in Shewalewadi', '1 BHK Residential Apartment in Shewalewadi', '2 BHK Residential Apartment in Hadapsar', '2 BHK Residential Apartment in Hadapsar', '1 BHK Residential Apartment in Hadapsar', '3 BHK Residential Apartment in Shewalewadi', '2 BHK Residential Apartment in Shewalewadi', '4 BHK Residential Apartment in Hadapsar', '1 BHK Residential Apartment in Shewalewadi', '3 BHK Residential Apartment in Shewalewadi', '2 BHK Residential Apartment in Shewalewadi', '2 BHK Residential Apartment in Manjri', '3 BHK Residential Apartment in Manjri', '2 BHK Residential Apartment in Manjri', '3 BHK Residential Apartment in Manjri', '2 BHK Residential Apartment in Manjri', '3 BHK Residential Apartment in Manjri', '3 BHK Residential Apartment in Manjri', '2 BHK Residential Apartment in Hadapsar', '1 BHK Residential Apartment in Hadapsar', '2 BHK Residential Apartment in Hadapsar', '3 BHK Residential Apartment in Hadapsar', '3 BHK Residential Apartment in Magarpatta', '2 BHK Residential Apartment in Magarpatta', '3 BHK Residential Apartment in Shewalewadi', '2 BHK Residential Apartment in Shewalewadi', '2 BHK Residential Apartment in Shewalewadi', '1 BHK Residential Apartment in Shewalewadi', '2 BHK Residential Apartment in Hadapsar', '2 BHK Residential Apartment in Hadapsar', '1 BHK Residential Apartment in Hadapsar', '3 BHK Residential Apartment in Shewalewadi', '2 BHK Residential Apartment in Shewalewadi', '4 BHK Residential Apartment in Hadapsar', '1 BHK Residential Apartment in Shewalewadi', '3 BHK Residential Apartment in Shewalewadi', '2 BHK Residential Apartment in Shewalewadi', '2 BHK Residential Apartment in Manjri', '3 BHK Residential Apartment in Manjri', '2 BHK Residential Apartment in Manjri', '3 BHK Residential Apartment in Manjri', '2 BHK Residential Apartment in Manjri', '3 BHK Residential Apartment in Manjri', '3 BHK Residential Apartment in Manjri', '1 BHK Residential Apartment in Hadapsar', '2 BHK Residential Apartment in Hadapsar', '2 BHK Residential Apartment in Hadapsar', '3 BHK Residential Apartment in Hadapsar', '3 BHK Residential Apartment in Magarpatta', '2 BHK Residential Apartment in Magarpatta', '3 BHK Residential Apartment in Shewalewadi', '2 BHK Residential Apartment in Shewalewadi', '2 BHK Residential Apartment in Shewalewadi', '1 BHK Residential Apartment in Shewalewadi', '2 BHK Residential Apartment in Hadapsar', '2 BHK Residential Apartment in Hadapsar', '1 BHK Residential Apartment in Hadapsar', '3 BHK Residential Apartment in Shewalewadi', '2 BHK Residential Apartment in Shewalewadi', '4 BHK Residential Apartment in Hadapsar', '1 BHK Residential Apartment in Shewalewadi', '3 BHK Residential Apartment in Shewalewadi', '2 BHK Residential Apartment in Shewalewadi', '2 BHK Residential Apartment in Manjri', '3 BHK Residential Apartment in Manjri', '2 BHK Residential Apartment in Manjri', '3 BHK Residential Apartment in Manjri', '2 BHK Residential Apartment in Manjri', '3 BHK Residential Apartment in Manjri', '3 BHK Residential Apartment in Manjri', '1 BHK Residential Apartment in Hadapsar', '2 BHK Residential Apartment in Hadapsar', '2 BHK Residential Apartment in Hadapsar', '3 BHK Residential Apartment in Hadapsar', '3 BHK Residential Apartment in Magarpatta', '2 BHK Residential Apartment in Magarpatta', '3 BHK Residential Apartment in Shewalewadi', '2 BHK Residential Apartment in Shewalewadi', '2 BHK Residential Apartment in Shewalewadi', '1 BHK Residential Apartment in Shewalewadi', '2 BHK Residential Apartment in Hadapsar', '2 BHK Residential Apartment in Hadapsar', '1 BHK Residential Apartment in Hadapsar', '3 BHK Residential Apartment in Shewalewadi', '2 BHK Residential Apartment in Shewalewadi', '4 BHK Residential Apartment in Hadapsar', '1 BHK Residential Apartment in Shewalewadi', '3 BHK Residential Apartment in Shewalewadi', '2 BHK Residential Apartment in Shewalewadi', '2 BHK Residential Apartment in Manjri', '3 BHK Residential Apartment in Manjri', '2 BHK Residential Apartment in Manjri', '3 BHK Residential Apartment in Manjri', '2 BHK Residential Apartment in Manjri', '3 BHK Residential Apartment in Manjri', '3 BHK Residential Apartment in Manjri', '1 BHK Residential Apartment in Hadapsar', '2 BHK Residential Apartment in Hadapsar', '2 BHK Residential Apartment in Hadapsar', '3 BHK Residential Apartment in Hadapsar', '3 BHK Residential Apartment in Magarpatta', '2 BHK Residential Apartment in Magarpatta', '3 BHK Residential Apartment in Shewalewadi', '2 BHK Residential Apartment in Shewalewadi', '2 BHK Residential Apartment in Shewalewadi', '1 BHK Residential Apartment in Shewalewadi', '2 BHK Residential Apartment in Hadapsar', '2 BHK Residential Apartment in Hadapsar', '1 BHK Residential Apartment in Hadapsar', '3 BHK Residential Apartment in Shewalewadi', '2 BHK Residential Apartment in Shewalewadi', '4 BHK Residential Apartment in Hadapsar', '1 BHK Residential Apartment in Shewalewadi', '3 BHK Residential Apartment in Shewalewadi', '2 BHK Residential Apartment in Shewalewadi', '2 BHK Residential Apartment in Manjri', '3 BHK Residential Apartment in Manjri', '2 BHK Residential Apartment in Manjri', '3 BHK Residential Apartment in Manjri', '2 BHK Residential Apartment in Manjri', '3 BHK Residential Apartment in Manjri', '3 BHK Residential Apartment in Manjri', '1 BHK Residential Apartment in Hadapsar', '2 BHK Residential Apartment in Hadapsar', '2 BHK Residential Apartment in Hadapsar', '3 BHK Residential Apartment in Hadapsar', '3 BHK Residential Apartment in Magarpatta', '2 BHK Residential Apartment in Magarpatta', '3 BHK Residential Apartment in Shewalewadi', '2 BHK Residential Apartment in Shewalewadi', '2 BHK Residential Apartment in Shewalewadi', '1 BHK Residential Apartment in Shewalewadi', '2 BHK Residential Apartment in Hadapsar', '2 BHK Residential Apartment in Hadapsar', '1 BHK Residential Apartment in Hadapsar', '3 BHK Residential Apartment in Shewalewadi', '2 BHK Residential Apartment in Shewalewadi', '4 BHK Residential Apartment in Hadapsar', '1 BHK Residential Apartment in Shewalewadi', '3 BHK Residential Apartment in Shewalewadi', '2 BHK Residential Apartment in Shewalewadi', '2 BHK Residential Apartment in Manjri', '3 BHK Residential Apartment in Manjri', '2 BHK Residential Apartment in Manjri', '3 BHK Residential Apartment in Manjri', '2 BHK Residential Apartment in Manjri', '3 BHK Residential Apartment in Manjri', '3 BHK Residential Apartment in Manjri', '1 BHK Residential Apartment in Hadapsar', '2 BHK Residential Apartment in Hadapsar', '2 BHK Residential Apartment in Hadapsar', '3 BHK Residential Apartment in Hadapsar', '3 BHK Residential Apartment in Magarpatta', '2 BHK Residential Apartment in Magarpatta', '3 BHK Residential Apartment in Shewalewadi', '2 BHK Residential Apartment in Shewalewadi', '2 BHK Residential Apartment in Shewalewadi', '1 BHK Residential Apartment in Shewalewadi', '2 BHK Residential Apartment in Hadapsar', '2 BHK Residential Apartment in Hadapsar', '1 BHK Residential Apartment in Hadapsar', '3 BHK Residential Apartment in Shewalewadi', '2 BHK Residential Apartment in Shewalewadi', '4 BHK Residential Apartment in Hadapsar', '1 BHK Residential Apartment in Shewalewadi', '3 BHK Residential Apartment in Shewalewadi', '2 BHK Residential Apartment in Shewalewadi', '2 BHK Residential Apartment in Manjri', '3 BHK Residential Apartment in Manjri', '2 BHK Residential Apartment in Manjri', '3 BHK Residential Apartment in Manjri', '2 BHK Residential Apartment in Manjri', '3 BHK Residential Apartment in Manjri', '3 BHK Residential Apartment in Manjri', '2 BHK Residential Apartment in Hadapsar', '1 BHK Residential Apartment in Hadapsar', '2 BHK Residential Apartment in Hadapsar', '3 BHK Residential Apartment in Hadapsar', '3 BHK Residential Apartment in Magarpatta', '2 BHK Residential Apartment in Magarpatta', '3 BHK Residential Apartment in Shewalewadi', '2 BHK Residential Apartment in Shewalewadi', '2 BHK Residential Apartment in Shewalewadi', '1 BHK Residential Apartment in Shewalewadi', '2 BHK Residential Apartment in Hadapsar', '2 BHK Residential Apartment in Hadapsar', '1 BHK Residential Apartment in Hadapsar', '3 BHK Residential Apartment in Shewalewadi', '2 BHK Residential Apartment in Shewalewadi', '4 BHK Residential Apartment in Hadapsar', '1 BHK Residential Apartment in Shewalewadi', '3 BHK Residential Apartment in Shewalewadi', '2 BHK Residential Apartment in Shewalewadi', '2 BHK Residential Apartment in Manjri', '3 BHK Residential Apartment in Manjri', '2 BHK Residential Apartment in Manjri', '3 BHK Residential Apartment in Manjri', '2 BHK Residential Apartment in Manjri', '3 BHK Residential Apartment in Manjri', '3 BHK Residential Apartment in Manjri', '1 BHK Residential Apartment in Hadapsar', '2 BHK Residential Apartment in Hadapsar', '2 BHK Residential Apartment in Hadapsar', '3 BHK Residential Apartment in Hadapsar', '3 BHK Residential Apartment in Magarpatta', '2 BHK Residential Apartment in Magarpatta', '3 BHK Residential Apartment in Shewalewadi', '2 BHK Residential Apartment in Shewalewadi', '2 BHK Residential Apartment in Shewalewadi', '1 BHK Residential Apartment in Shewalewadi', '2 BHK Residential Apartment in Hadapsar', '2 BHK Residential Apartment in Hadapsar', '1 BHK Residential Apartment in Hadapsar', '3 BHK Residential Apartment in Shewalewadi', '2 BHK Residential Apartment in Shewalewadi', '4 BHK Residential Apartment in Hadapsar', '1 BHK Residential Apartment in Shewalewadi', '3 BHK Residential Apartment in Shewalewadi', '2 BHK Residential Apartment in Shewalewadi', '2 BHK Residential Apartment in Manjri', '3 BHK Residential Apartment in Manjri', '2 BHK Residential Apartment in Manjri', '3 BHK Residential Apartment in Manjri', '2 BHK Residential Apartment in Manjri', '3 BHK Residential Apartment in Manjri', '3 BHK Residential Apartment in Manjri', '1 BHK Residential Apartment in Hadapsar', '2 BHK Residential Apartment in Hadapsar', '2 BHK Residential Apartment in Hadapsar', '3 BHK Residential Apartment in Hadapsar', '3 BHK Residential Apartment in Magarpatta', '2 BHK Residential Apartment in Magarpatta', '3 BHK Residential Apartment in Shewalewadi', '2 BHK Residential Apartment in Shewalewadi', '2 BHK Residential Apartment in Shewalewadi', '1 BHK Residential Apartment in Shewalewadi', '2 BHK Residential Apartment in Hadapsar', '2 BHK Residential Apartment in Hadapsar', '1 BHK Residential Apartment in Hadapsar', '3 BHK Residential Apartment in Shewalewadi', '2 BHK Residential Apartment in Shewalewadi', '4 BHK Residential Apartment in Hadapsar', '1 BHK Residential Apartment in Shewalewadi', '3 BHK Residential Apartment in Shewalewadi', '2 BHK Residential Apartment in Shewalewadi', '2 BHK Residential Apartment in Manjri', '3 BHK Residential Apartment in Manjri', '2 BHK Residential Apartment in Manjri', '3 BHK Residential Apartment in Manjri', '2 BHK Residential Apartment in Manjri', '3 BHK Residential Apartment in Manjri', '3 BHK Residential Apartment in Manjri', '2 BHK Residential Apartment in Hadapsar', '1 BHK Residential Apartment in Hadapsar', '2 BHK Residential Apartment in Hadapsar', '3 BHK Residential Apartment in Hadapsar', '3 BHK Residential Apartment in Magarpatta', '2 BHK Residential Apartment in Magarpatta', '3 BHK Residential Apartment in Shewalewadi', '2 BHK Residential Apartment in Shewalewadi', '2 BHK Residential Apartment in Shewalewadi', '1 BHK Residential Apartment in Shewalewadi', '2 BHK Residential Apartment in Hadapsar', '2 BHK Residential Apartment in Hadapsar', '1 BHK Residential Apartment in Hadapsar', '3 BHK Residential Apartment in Shewalewadi', '2 BHK Residential Apartment in Shewalewadi', '4 BHK Residential Apartment in Hadapsar', '1 BHK Residential Apartment in Shewalewadi', '3 BHK Residential Apartment in Shewalewadi', '2 BHK Residential Apartment in Shewalewadi', '2 BHK Residential Apartment in Manjri', '3 BHK Residential Apartment in Manjri', '2 BHK Residential Apartment in Manjri', '3 BHK Residential Apartment in Manjri', '2 BHK Residential Apartment in Manjri', '3 BHK Residential Apartment in Manjri', '3 BHK Residential Apartment in Manjri', '1 BHK Residential Apartment in Hadapsar', '2 BHK Residential Apartment in Hadapsar', '2 BHK Residential Apartment in Hadapsar', '3 BHK Residential Apartment in Hadapsar', '3 BHK Residential Apartment in Magarpatta', '2 BHK Residential Apartment in Magarpatta', '3 BHK Residential Apartment in Shewalewadi', '2 BHK Residential Apartment in Shewalewadi', '2 BHK Residential Apartment in Shewalewadi', '1 BHK Residential Apartment in Shewalewadi', '2 BHK Residential Apartment in Hadapsar', '2 BHK Residential Apartment in Hadapsar', '1 BHK Residential Apartment in Hadapsar', '3 BHK Residential Apartment in Shewalewadi', '2 BHK Residential Apartment in Shewalewadi', '4 BHK Residential Apartment in Hadapsar', '1 BHK Residential Apartment in Shewalewadi', '3 BHK Residential Apartment in Shewalewadi', '2 BHK Residential Apartment in Shewalewadi', '2 BHK Residential Apartment in Manjri', '3 BHK Residential Apartment in Manjri', '2 BHK Residential Apartment in Manjri', '3 BHK Residential Apartment in Manjri', '2 BHK Residential Apartment in Manjri', '3 BHK Residential Apartment in Manjri', '3 BHK Residential Apartment in Manjri', '2 BHK Residential Apartment in Hadapsar', '1 BHK Residential Apartment in Hadapsar', '2 BHK Residential Apartment in Hadapsar', '3 BHK Residential Apartment in Hadapsar', '3 BHK Residential Apartment in Magarpatta', '2 BHK Residential Apartment in Magarpatta', '3 BHK Residential Apartment in Shewalewadi', '2 BHK Residential Apartment in Shewalewadi', '2 BHK Residential Apartment in Shewalewadi', '1 BHK Residential Apartment in Shewalewadi', '2 BHK Residential Apartment in Hadapsar', '2 BHK Residential Apartment in Hadapsar', '1 BHK Residential Apartment in Hadapsar', '3 BHK Residential Apartment in Shewalewadi', '2 BHK Residential Apartment in Shewalewadi', '4 BHK Residential Apartment in Hadapsar', '1 BHK Residential Apartment in Shewalewadi', '3 BHK Residential Apartment in Shewalewadi', '2 BHK Residential Apartment in Shewalewadi', '2 BHK Residential Apartment in Manjri', '3 BHK Residential Apartment in Manjri', '2 BHK Residential Apartment in Manjri', '3 BHK Residential Apartment in Manjri', '2 BHK Residential Apartment in Manjri', '3 BHK Residential Apartment in Manjri', '3 BHK Residential Apartment in Manjri']\n",
      "['₹ 77.77 Lac', '₹ 55.55 Lac', '₹ 68.2 Lac', '₹ 89.56 Lac', '₹ 1.06  - 1.36 Cr₹ 10,982/sq.ft.', '₹ 84.9  - 88.75 Lac₹ 11,074/sq.ft.', '₹ 78.9 Lac', '₹ 64.9 Lac', '₹ 56.9 Lac', '₹ 37.5 Lac', '₹ 39.16  - 44.86 Lac₹ 7,010/sq.ft.', '₹ 38.7 Lac', '₹ 25.41 Lac', '₹ 77 Lac', '₹ 47  - 58.5 Lac', '₹ 3 Cr₹ 6,430/sq.ft.', '₹ 31.75  - 47.37 Lac', '₹ 71.45  - 77.9 Lac', '₹ 50.5  - 81.87 Lac', '₹ 58.19  - 70.79 Lac₹ 10,238/sq.ft.', '₹ 78.8  - 95.2 Lac₹ 9,993/sq.ft.', '₹ 47  - 48.5 Lac₹ 6,527/sq.ft.', '₹ 74.06  - 76.51 Lac₹ 7,013/sq.ft.', '₹ 46.88  - 75.38 Lac₹ 8,357/sq.ft.', '₹ 90 Lac₹ 8,249/sq.ft.', '₹ 90 Lac₹ 8,249/sq.ft.', '₹ 55.55 Lac', '₹ 77.77 Lac', '₹ 68.2 Lac', '₹ 89.56 Lac', '₹ 1.06  - 1.36 Cr₹ 10,982/sq.ft.', '₹ 84.9  - 88.75 Lac₹ 11,074/sq.ft.', '₹ 78.9 Lac', '₹ 64.9 Lac', '₹ 56.9 Lac', '₹ 37.5 Lac', '₹ 39.16  - 44.86 Lac₹ 7,010/sq.ft.', '₹ 38.7 Lac', '₹ 25.41 Lac', '₹ 77 Lac', '₹ 47  - 58.5 Lac', '₹ 3 Cr₹ 6,430/sq.ft.', '₹ 31.75  - 47.37 Lac', '₹ 71.45  - 77.9 Lac', '₹ 50.5  - 81.87 Lac', '₹ 58.19  - 70.79 Lac₹ 10,238/sq.ft.', '₹ 78.8  - 95.2 Lac₹ 9,993/sq.ft.', '₹ 47  - 48.5 Lac₹ 6,527/sq.ft.', '₹ 74.06  - 76.51 Lac₹ 7,013/sq.ft.', '₹ 46.88  - 75.38 Lac₹ 8,357/sq.ft.', '₹ 90 Lac₹ 8,249/sq.ft.', '₹ 90 Lac₹ 8,249/sq.ft.', '₹ 55.55 Lac', '₹ 77.77 Lac', '₹ 68.2 Lac', '₹ 89.56 Lac', '₹ 1.06  - 1.36 Cr₹ 10,982/sq.ft.', '₹ 84.9  - 88.75 Lac₹ 11,074/sq.ft.', '₹ 78.9 Lac', '₹ 64.9 Lac', '₹ 56.9 Lac', '₹ 37.5 Lac', '₹ 39.16  - 44.86 Lac₹ 7,010/sq.ft.', '₹ 38.7 Lac', '₹ 25.41 Lac', '₹ 77 Lac', '₹ 47  - 58.5 Lac', '₹ 3 Cr₹ 6,430/sq.ft.', '₹ 31.75  - 47.37 Lac', '₹ 71.45  - 77.9 Lac', '₹ 50.5  - 81.87 Lac', '₹ 58.19  - 70.79 Lac₹ 10,238/sq.ft.', '₹ 78.8  - 95.2 Lac₹ 9,993/sq.ft.', '₹ 47  - 48.5 Lac₹ 6,527/sq.ft.', '₹ 74.06  - 76.51 Lac₹ 7,013/sq.ft.', '₹ 46.88  - 75.38 Lac₹ 8,357/sq.ft.', '₹ 90 Lac₹ 8,249/sq.ft.', '₹ 90 Lac₹ 8,249/sq.ft.', '₹ 77.77 Lac', '₹ 55.55 Lac', '₹ 68.2 Lac', '₹ 89.56 Lac', '₹ 1.06  - 1.36 Cr₹ 10,982/sq.ft.', '₹ 84.9  - 88.75 Lac₹ 11,074/sq.ft.', '₹ 78.9 Lac', '₹ 64.9 Lac', '₹ 56.9 Lac', '₹ 37.5 Lac', '₹ 39.16  - 44.86 Lac₹ 7,010/sq.ft.', '₹ 38.7 Lac', '₹ 25.41 Lac', '₹ 77 Lac', '₹ 47  - 58.5 Lac', '₹ 3 Cr₹ 6,430/sq.ft.', '₹ 31.75  - 47.37 Lac', '₹ 71.45  - 77.9 Lac', '₹ 50.5  - 81.87 Lac', '₹ 58.19  - 70.79 Lac₹ 10,238/sq.ft.', '₹ 78.8  - 95.2 Lac₹ 9,993/sq.ft.', '₹ 47  - 48.5 Lac₹ 6,527/sq.ft.', '₹ 74.06  - 76.51 Lac₹ 7,013/sq.ft.', '₹ 46.88  - 75.38 Lac₹ 8,357/sq.ft.', '₹ 90 Lac₹ 8,249/sq.ft.', '₹ 90 Lac₹ 8,249/sq.ft.', '₹ 77.77 Lac', '₹ 55.55 Lac', '₹ 68.2 Lac', '₹ 89.56 Lac', '₹ 1.06  - 1.36 Cr₹ 10,982/sq.ft.', '₹ 84.9  - 88.75 Lac₹ 11,074/sq.ft.', '₹ 78.9 Lac', '₹ 64.9 Lac', '₹ 56.9 Lac', '₹ 37.5 Lac', '₹ 39.16  - 44.86 Lac₹ 7,010/sq.ft.', '₹ 38.7 Lac', '₹ 25.41 Lac', '₹ 77 Lac', '₹ 47  - 58.5 Lac', '₹ 3 Cr₹ 6,430/sq.ft.', '₹ 31.75  - 47.37 Lac', '₹ 71.45  - 77.9 Lac', '₹ 50.5  - 81.87 Lac', '₹ 58.19  - 70.79 Lac₹ 10,238/sq.ft.', '₹ 78.8  - 95.2 Lac₹ 9,993/sq.ft.', '₹ 47  - 48.5 Lac₹ 6,527/sq.ft.', '₹ 74.06  - 76.51 Lac₹ 7,013/sq.ft.', '₹ 46.88  - 75.38 Lac₹ 8,357/sq.ft.', '₹ 90 Lac₹ 8,249/sq.ft.', '₹ 90 Lac₹ 8,249/sq.ft.', '₹ 77.77 Lac', '₹ 55.55 Lac', '₹ 68.2 Lac', '₹ 89.56 Lac', '₹ 1.06  - 1.36 Cr₹ 10,982/sq.ft.', '₹ 84.9  - 88.75 Lac₹ 11,074/sq.ft.', '₹ 78.9 Lac', '₹ 64.9 Lac', '₹ 56.9 Lac', '₹ 37.5 Lac', '₹ 39.16  - 44.86 Lac₹ 7,010/sq.ft.', '₹ 38.7 Lac', '₹ 25.41 Lac', '₹ 77 Lac', '₹ 47  - 58.5 Lac', '₹ 3 Cr₹ 6,430/sq.ft.', '₹ 31.75  - 47.37 Lac', '₹ 71.45  - 77.9 Lac', '₹ 50.5  - 81.87 Lac', '₹ 58.19  - 70.79 Lac₹ 10,238/sq.ft.', '₹ 78.8  - 95.2 Lac₹ 9,993/sq.ft.', '₹ 47  - 48.5 Lac₹ 6,527/sq.ft.', '₹ 74.06  - 76.51 Lac₹ 7,013/sq.ft.', '₹ 46.88  - 75.38 Lac₹ 8,357/sq.ft.', '₹ 90 Lac₹ 8,249/sq.ft.', '₹ 90 Lac₹ 8,249/sq.ft.', '₹ 55.55 Lac', '₹ 77.77 Lac', '₹ 68.2 Lac', '₹ 89.56 Lac', '₹ 1.06  - 1.36 Cr₹ 10,982/sq.ft.', '₹ 84.9  - 88.75 Lac₹ 11,074/sq.ft.', '₹ 78.9 Lac', '₹ 64.9 Lac', '₹ 56.9 Lac', '₹ 37.5 Lac', '₹ 39.16  - 44.86 Lac₹ 7,010/sq.ft.', '₹ 38.7 Lac', '₹ 25.41 Lac', '₹ 77 Lac', '₹ 47  - 58.5 Lac', '₹ 3 Cr₹ 6,430/sq.ft.', '₹ 31.75  - 47.37 Lac', '₹ 71.45  - 77.9 Lac', '₹ 50.5  - 81.87 Lac', '₹ 58.19  - 70.79 Lac₹ 10,238/sq.ft.', '₹ 78.8  - 95.2 Lac₹ 9,993/sq.ft.', '₹ 47  - 48.5 Lac₹ 6,527/sq.ft.', '₹ 74.06  - 76.51 Lac₹ 7,013/sq.ft.', '₹ 46.88  - 75.38 Lac₹ 8,357/sq.ft.', '₹ 90 Lac₹ 8,249/sq.ft.', '₹ 90 Lac₹ 8,249/sq.ft.', '₹ 55.55 Lac', '₹ 77.77 Lac', '₹ 68.2 Lac', '₹ 89.56 Lac', '₹ 1.06  - 1.36 Cr₹ 10,982/sq.ft.', '₹ 84.9  - 88.75 Lac₹ 11,074/sq.ft.', '₹ 78.9 Lac', '₹ 64.9 Lac', '₹ 56.9 Lac', '₹ 37.5 Lac', '₹ 39.16  - 44.86 Lac₹ 7,010/sq.ft.', '₹ 38.7 Lac', '₹ 25.41 Lac', '₹ 77 Lac', '₹ 47  - 58.5 Lac', '₹ 3 Cr₹ 6,430/sq.ft.', '₹ 31.75  - 47.37 Lac', '₹ 71.45  - 77.9 Lac', '₹ 50.5  - 81.87 Lac', '₹ 58.19  - 70.79 Lac₹ 10,238/sq.ft.', '₹ 78.8  - 95.2 Lac₹ 9,993/sq.ft.', '₹ 47  - 48.5 Lac₹ 6,527/sq.ft.', '₹ 74.06  - 76.51 Lac₹ 7,013/sq.ft.', '₹ 46.88  - 75.38 Lac₹ 8,357/sq.ft.', '₹ 90 Lac₹ 8,249/sq.ft.', '₹ 90 Lac₹ 8,249/sq.ft.', '₹ 77.77 Lac', '₹ 55.55 Lac', '₹ 68.2 Lac', '₹ 89.56 Lac', '₹ 1.06  - 1.36 Cr₹ 10,982/sq.ft.', '₹ 84.9  - 88.75 Lac₹ 11,074/sq.ft.', '₹ 78.9 Lac', '₹ 64.9 Lac', '₹ 56.9 Lac', '₹ 37.5 Lac', '₹ 39.16  - 44.86 Lac₹ 7,010/sq.ft.', '₹ 38.7 Lac', '₹ 25.41 Lac', '₹ 77 Lac', '₹ 47  - 58.5 Lac', '₹ 3 Cr₹ 6,430/sq.ft.', '₹ 31.75  - 47.37 Lac', '₹ 71.45  - 77.9 Lac', '₹ 50.5  - 81.87 Lac', '₹ 58.19  - 70.79 Lac₹ 10,238/sq.ft.', '₹ 78.8  - 95.2 Lac₹ 9,993/sq.ft.', '₹ 47  - 48.5 Lac₹ 6,527/sq.ft.', '₹ 74.06  - 76.51 Lac₹ 7,013/sq.ft.', '₹ 46.88  - 75.38 Lac₹ 8,357/sq.ft.', '₹ 90 Lac₹ 8,249/sq.ft.', '₹ 90 Lac₹ 8,249/sq.ft.', '₹ 77.77 Lac', '₹ 55.55 Lac', '₹ 68.2 Lac', '₹ 89.56 Lac', '₹ 1.06  - 1.36 Cr₹ 10,982/sq.ft.', '₹ 84.9  - 88.75 Lac₹ 11,074/sq.ft.', '₹ 78.9 Lac', '₹ 64.9 Lac', '₹ 56.9 Lac', '₹ 37.5 Lac', '₹ 39.16  - 44.86 Lac₹ 7,010/sq.ft.', '₹ 38.7 Lac', '₹ 25.41 Lac', '₹ 77 Lac', '₹ 47  - 58.5 Lac', '₹ 3 Cr₹ 6,430/sq.ft.', '₹ 31.75  - 47.37 Lac', '₹ 71.45  - 77.9 Lac', '₹ 50.5  - 81.87 Lac', '₹ 58.19  - 70.79 Lac₹ 10,238/sq.ft.', '₹ 78.8  - 95.2 Lac₹ 9,993/sq.ft.', '₹ 47  - 48.5 Lac₹ 6,527/sq.ft.', '₹ 74.06  - 76.51 Lac₹ 7,013/sq.ft.', '₹ 46.88  - 75.38 Lac₹ 8,357/sq.ft.', '₹ 90 Lac₹ 8,249/sq.ft.', '₹ 90 Lac₹ 8,249/sq.ft.', '₹ 55.55 Lac', '₹ 77.77 Lac', '₹ 68.2 Lac', '₹ 89.56 Lac', '₹ 1.06  - 1.36 Cr₹ 10,982/sq.ft.', '₹ 84.9  - 88.75 Lac₹ 11,074/sq.ft.', '₹ 78.9 Lac', '₹ 64.9 Lac', '₹ 56.9 Lac', '₹ 37.5 Lac', '₹ 39.16  - 44.86 Lac₹ 7,010/sq.ft.', '₹ 38.7 Lac', '₹ 25.41 Lac', '₹ 77 Lac', '₹ 47  - 58.5 Lac', '₹ 3 Cr₹ 6,430/sq.ft.', '₹ 31.75  - 47.37 Lac', '₹ 71.45  - 77.9 Lac', '₹ 50.5  - 81.87 Lac', '₹ 58.19  - 70.79 Lac₹ 10,238/sq.ft.', '₹ 78.8  - 95.2 Lac₹ 9,993/sq.ft.', '₹ 47  - 48.5 Lac₹ 6,527/sq.ft.', '₹ 74.06  - 76.51 Lac₹ 7,013/sq.ft.', '₹ 46.88  - 75.38 Lac₹ 8,357/sq.ft.', '₹ 90 Lac₹ 8,249/sq.ft.', '₹ 90 Lac₹ 8,249/sq.ft.', '₹ 55.55 Lac', '₹ 77.77 Lac', '₹ 68.2 Lac', '₹ 89.56 Lac', '₹ 1.06  - 1.36 Cr₹ 10,982/sq.ft.', '₹ 84.9  - 88.75 Lac₹ 11,074/sq.ft.', '₹ 78.9 Lac', '₹ 64.9 Lac', '₹ 56.9 Lac', '₹ 37.5 Lac', '₹ 39.16  - 44.86 Lac₹ 7,010/sq.ft.', '₹ 38.7 Lac', '₹ 25.41 Lac', '₹ 77 Lac', '₹ 47  - 58.5 Lac', '₹ 3 Cr₹ 6,430/sq.ft.', '₹ 31.75  - 47.37 Lac', '₹ 71.45  - 77.9 Lac', '₹ 50.5  - 81.87 Lac', '₹ 58.19  - 70.79 Lac₹ 10,238/sq.ft.', '₹ 78.8  - 95.2 Lac₹ 9,993/sq.ft.', '₹ 47  - 48.5 Lac₹ 6,527/sq.ft.', '₹ 74.06  - 76.51 Lac₹ 7,013/sq.ft.', '₹ 46.88  - 75.38 Lac₹ 8,357/sq.ft.', '₹ 90 Lac₹ 8,249/sq.ft.', '₹ 90 Lac₹ 8,249/sq.ft.', '₹ 55.55 Lac', '₹ 77.77 Lac', '₹ 68.2 Lac', '₹ 89.56 Lac', '₹ 1.06  - 1.36 Cr₹ 10,982/sq.ft.', '₹ 84.9  - 88.75 Lac₹ 11,074/sq.ft.', '₹ 78.9 Lac', '₹ 64.9 Lac', '₹ 56.9 Lac', '₹ 37.5 Lac', '₹ 39.16  - 44.86 Lac₹ 7,010/sq.ft.', '₹ 38.7 Lac', '₹ 25.41 Lac', '₹ 77 Lac', '₹ 47  - 58.5 Lac', '₹ 3 Cr₹ 6,430/sq.ft.', '₹ 31.75  - 47.37 Lac', '₹ 71.45  - 77.9 Lac', '₹ 50.5  - 81.87 Lac', '₹ 58.19  - 70.79 Lac₹ 10,238/sq.ft.', '₹ 78.8  - 95.2 Lac₹ 9,993/sq.ft.', '₹ 47  - 48.5 Lac₹ 6,527/sq.ft.', '₹ 74.06  - 76.51 Lac₹ 7,013/sq.ft.', '₹ 46.88  - 75.38 Lac₹ 8,357/sq.ft.', '₹ 90 Lac₹ 8,249/sq.ft.', '₹ 90 Lac₹ 8,249/sq.ft.', '₹ 77.77 Lac', '₹ 55.55 Lac', '₹ 68.2 Lac', '₹ 89.56 Lac', '₹ 1.06  - 1.36 Cr₹ 10,982/sq.ft.', '₹ 84.9  - 88.75 Lac₹ 11,074/sq.ft.', '₹ 78.9 Lac', '₹ 64.9 Lac', '₹ 56.9 Lac', '₹ 37.5 Lac', '₹ 39.16  - 44.86 Lac₹ 7,010/sq.ft.', '₹ 38.7 Lac', '₹ 25.41 Lac', '₹ 77 Lac', '₹ 47  - 58.5 Lac', '₹ 3 Cr₹ 6,430/sq.ft.', '₹ 31.75  - 47.37 Lac', '₹ 71.45  - 77.9 Lac', '₹ 50.5  - 81.87 Lac', '₹ 58.19  - 70.79 Lac₹ 10,238/sq.ft.', '₹ 78.8  - 95.2 Lac₹ 9,993/sq.ft.', '₹ 47  - 48.5 Lac₹ 6,527/sq.ft.', '₹ 74.06  - 76.51 Lac₹ 7,013/sq.ft.', '₹ 46.88  - 75.38 Lac₹ 8,357/sq.ft.', '₹ 90 Lac₹ 8,249/sq.ft.', '₹ 90 Lac₹ 8,249/sq.ft.', '₹ 55.55 Lac', '₹ 77.77 Lac', '₹ 68.2 Lac', '₹ 89.56 Lac', '₹ 1.06  - 1.36 Cr₹ 10,982/sq.ft.', '₹ 84.9  - 88.75 Lac₹ 11,074/sq.ft.', '₹ 78.9 Lac', '₹ 64.9 Lac', '₹ 56.9 Lac', '₹ 37.5 Lac', '₹ 39.16  - 44.86 Lac₹ 7,010/sq.ft.', '₹ 38.7 Lac', '₹ 25.41 Lac', '₹ 77 Lac', '₹ 47  - 58.5 Lac', '₹ 3 Cr₹ 6,430/sq.ft.', '₹ 31.75  - 47.37 Lac', '₹ 71.45  - 77.9 Lac', '₹ 50.5  - 81.87 Lac', '₹ 58.19  - 70.79 Lac₹ 10,238/sq.ft.', '₹ 78.8  - 95.2 Lac₹ 9,993/sq.ft.', '₹ 47  - 48.5 Lac₹ 6,527/sq.ft.', '₹ 74.06  - 76.51 Lac₹ 7,013/sq.ft.', '₹ 46.88  - 75.38 Lac₹ 8,357/sq.ft.', '₹ 90 Lac₹ 8,249/sq.ft.', '₹ 90 Lac₹ 8,249/sq.ft.', '₹ 55.55 Lac', '₹ 77.77 Lac', '₹ 68.2 Lac', '₹ 89.56 Lac', '₹ 1.06  - 1.36 Cr₹ 10,982/sq.ft.', '₹ 84.9  - 88.75 Lac₹ 11,074/sq.ft.', '₹ 78.9 Lac', '₹ 64.9 Lac', '₹ 56.9 Lac', '₹ 37.5 Lac', '₹ 39.16  - 44.86 Lac₹ 7,010/sq.ft.', '₹ 38.7 Lac', '₹ 25.41 Lac', '₹ 77 Lac', '₹ 47  - 58.5 Lac', '₹ 3 Cr₹ 6,430/sq.ft.', '₹ 31.75  - 47.37 Lac', '₹ 71.45  - 77.9 Lac', '₹ 50.5  - 81.87 Lac', '₹ 58.19  - 70.79 Lac₹ 10,238/sq.ft.', '₹ 78.8  - 95.2 Lac₹ 9,993/sq.ft.', '₹ 47  - 48.5 Lac₹ 6,527/sq.ft.', '₹ 74.06  - 76.51 Lac₹ 7,013/sq.ft.', '₹ 46.88  - 75.38 Lac₹ 8,357/sq.ft.', '₹ 90 Lac₹ 8,249/sq.ft.', '₹ 90 Lac₹ 8,249/sq.ft.', '₹ 55.55 Lac', '₹ 77.77 Lac', '₹ 68.2 Lac', '₹ 89.56 Lac', '₹ 1.06  - 1.36 Cr₹ 10,982/sq.ft.', '₹ 84.9  - 88.75 Lac₹ 11,074/sq.ft.', '₹ 78.9 Lac', '₹ 64.9 Lac', '₹ 56.9 Lac', '₹ 37.5 Lac', '₹ 39.16  - 44.86 Lac₹ 7,010/sq.ft.', '₹ 38.7 Lac', '₹ 25.41 Lac', '₹ 77 Lac', '₹ 47  - 58.5 Lac', '₹ 3 Cr₹ 6,430/sq.ft.', '₹ 31.75  - 47.37 Lac', '₹ 71.45  - 77.9 Lac', '₹ 50.5  - 81.87 Lac', '₹ 58.19  - 70.79 Lac₹ 10,238/sq.ft.', '₹ 78.8  - 95.2 Lac₹ 9,993/sq.ft.', '₹ 47  - 48.5 Lac₹ 6,527/sq.ft.', '₹ 74.06  - 76.51 Lac₹ 7,013/sq.ft.', '₹ 46.88  - 75.38 Lac₹ 8,357/sq.ft.', '₹ 90 Lac₹ 8,249/sq.ft.', '₹ 90 Lac₹ 8,249/sq.ft.', '₹ 55.55 Lac', '₹ 77.77 Lac', '₹ 68.2 Lac', '₹ 89.56 Lac', '₹ 1.06  - 1.36 Cr₹ 10,982/sq.ft.', '₹ 84.9  - 88.75 Lac₹ 11,074/sq.ft.', '₹ 78.9 Lac', '₹ 64.9 Lac', '₹ 56.9 Lac', '₹ 37.5 Lac', '₹ 39.16  - 44.86 Lac₹ 7,010/sq.ft.', '₹ 38.7 Lac', '₹ 25.41 Lac', '₹ 77 Lac', '₹ 47  - 58.5 Lac', '₹ 3 Cr₹ 6,430/sq.ft.', '₹ 31.75  - 47.37 Lac', '₹ 71.45  - 77.9 Lac', '₹ 50.5  - 81.87 Lac', '₹ 58.19  - 70.79 Lac₹ 10,238/sq.ft.', '₹ 78.8  - 95.2 Lac₹ 9,993/sq.ft.', '₹ 47  - 48.5 Lac₹ 6,527/sq.ft.', '₹ 74.06  - 76.51 Lac₹ 7,013/sq.ft.', '₹ 46.88  - 75.38 Lac₹ 8,357/sq.ft.', '₹ 90 Lac₹ 8,249/sq.ft.', '₹ 90 Lac₹ 8,249/sq.ft.', '₹ 55.55 Lac', '₹ 77.77 Lac', '₹ 68.2 Lac', '₹ 89.56 Lac', '₹ 1.06  - 1.36 Cr₹ 10,982/sq.ft.', '₹ 84.9  - 88.75 Lac₹ 11,074/sq.ft.', '₹ 78.9 Lac', '₹ 64.9 Lac', '₹ 56.9 Lac', '₹ 37.5 Lac', '₹ 39.16  - 44.86 Lac₹ 7,010/sq.ft.', '₹ 38.7 Lac', '₹ 25.41 Lac', '₹ 77 Lac', '₹ 47  - 58.5 Lac', '₹ 3 Cr₹ 6,430/sq.ft.', '₹ 31.75  - 47.37 Lac', '₹ 71.45  - 77.9 Lac', '₹ 50.5  - 81.87 Lac', '₹ 58.19  - 70.79 Lac₹ 10,238/sq.ft.', '₹ 78.8  - 95.2 Lac₹ 9,993/sq.ft.', '₹ 47  - 48.5 Lac₹ 6,527/sq.ft.', '₹ 74.06  - 76.51 Lac₹ 7,013/sq.ft.', '₹ 46.88  - 75.38 Lac₹ 8,357/sq.ft.', '₹ 90 Lac₹ 8,249/sq.ft.', '₹ 90 Lac₹ 8,249/sq.ft.', '₹ 77.77 Lac', '₹ 55.55 Lac', '₹ 68.2 Lac', '₹ 89.56 Lac', '₹ 1.06  - 1.36 Cr₹ 10,982/sq.ft.', '₹ 84.9  - 88.75 Lac₹ 11,074/sq.ft.', '₹ 78.9 Lac', '₹ 64.9 Lac', '₹ 56.9 Lac', '₹ 37.5 Lac', '₹ 39.16  - 44.86 Lac₹ 7,010/sq.ft.', '₹ 38.7 Lac', '₹ 25.41 Lac', '₹ 77 Lac', '₹ 47  - 58.5 Lac', '₹ 3 Cr₹ 6,430/sq.ft.', '₹ 31.75  - 47.37 Lac', '₹ 71.45  - 77.9 Lac', '₹ 50.5  - 81.87 Lac', '₹ 58.19  - 70.79 Lac₹ 10,238/sq.ft.', '₹ 78.8  - 95.2 Lac₹ 9,993/sq.ft.', '₹ 47  - 48.5 Lac₹ 6,527/sq.ft.', '₹ 74.06  - 76.51 Lac₹ 7,013/sq.ft.', '₹ 46.88  - 75.38 Lac₹ 8,357/sq.ft.', '₹ 90 Lac₹ 8,249/sq.ft.', '₹ 90 Lac₹ 8,249/sq.ft.', '₹ 55.55 Lac', '₹ 77.77 Lac', '₹ 68.2 Lac', '₹ 89.56 Lac', '₹ 1.06  - 1.36 Cr₹ 10,982/sq.ft.', '₹ 84.9  - 88.75 Lac₹ 11,074/sq.ft.', '₹ 78.9 Lac', '₹ 64.9 Lac', '₹ 56.9 Lac', '₹ 37.5 Lac', '₹ 39.16  - 44.86 Lac₹ 7,010/sq.ft.', '₹ 38.7 Lac', '₹ 25.41 Lac', '₹ 77 Lac', '₹ 47  - 58.5 Lac', '₹ 3 Cr₹ 6,430/sq.ft.', '₹ 31.75  - 47.37 Lac', '₹ 71.45  - 77.9 Lac', '₹ 50.5  - 81.87 Lac', '₹ 58.19  - 70.79 Lac₹ 10,238/sq.ft.', '₹ 78.8  - 95.2 Lac₹ 9,993/sq.ft.', '₹ 47  - 48.5 Lac₹ 6,527/sq.ft.', '₹ 74.06  - 76.51 Lac₹ 7,013/sq.ft.', '₹ 46.88  - 75.38 Lac₹ 8,357/sq.ft.', '₹ 90 Lac₹ 8,249/sq.ft.', '₹ 90 Lac₹ 8,249/sq.ft.', '₹ 55.55 Lac', '₹ 77.77 Lac', '₹ 68.2 Lac', '₹ 89.56 Lac', '₹ 1.06  - 1.36 Cr₹ 10,982/sq.ft.', '₹ 84.9  - 88.75 Lac₹ 11,074/sq.ft.', '₹ 78.9 Lac', '₹ 64.9 Lac', '₹ 56.9 Lac', '₹ 37.5 Lac', '₹ 39.16  - 44.86 Lac₹ 7,010/sq.ft.', '₹ 38.7 Lac', '₹ 25.41 Lac', '₹ 77 Lac', '₹ 47  - 58.5 Lac', '₹ 3 Cr₹ 6,430/sq.ft.', '₹ 31.75  - 47.37 Lac', '₹ 71.45  - 77.9 Lac', '₹ 50.5  - 81.87 Lac', '₹ 58.19  - 70.79 Lac₹ 10,238/sq.ft.', '₹ 78.8  - 95.2 Lac₹ 9,993/sq.ft.', '₹ 47  - 48.5 Lac₹ 6,527/sq.ft.', '₹ 74.06  - 76.51 Lac₹ 7,013/sq.ft.', '₹ 46.88  - 75.38 Lac₹ 8,357/sq.ft.', '₹ 90 Lac₹ 8,249/sq.ft.', '₹ 90 Lac₹ 8,249/sq.ft.', '₹ 77.77 Lac', '₹ 55.55 Lac', '₹ 68.2 Lac', '₹ 89.56 Lac', '₹ 1.06  - 1.36 Cr₹ 10,982/sq.ft.', '₹ 84.9  - 88.75 Lac₹ 11,074/sq.ft.', '₹ 78.9 Lac', '₹ 64.9 Lac', '₹ 56.9 Lac', '₹ 37.5 Lac', '₹ 39.16  - 44.86 Lac₹ 7,010/sq.ft.', '₹ 38.7 Lac', '₹ 25.41 Lac', '₹ 77 Lac', '₹ 47  - 58.5 Lac', '₹ 3 Cr₹ 6,430/sq.ft.', '₹ 31.75  - 47.37 Lac', '₹ 71.45  - 77.9 Lac', '₹ 50.5  - 81.87 Lac', '₹ 58.19  - 70.79 Lac₹ 10,238/sq.ft.', '₹ 78.8  - 95.2 Lac₹ 9,993/sq.ft.', '₹ 47  - 48.5 Lac₹ 6,527/sq.ft.', '₹ 74.06  - 76.51 Lac₹ 7,013/sq.ft.', '₹ 46.88  - 75.38 Lac₹ 8,357/sq.ft.', '₹ 90 Lac₹ 8,249/sq.ft.', '₹ 90 Lac₹ 8,249/sq.ft.', '₹ 55.55 Lac', '₹ 77.77 Lac', '₹ 68.2 Lac', '₹ 89.56 Lac', '₹ 1.06  - 1.36 Cr₹ 10,982/sq.ft.', '₹ 84.9  - 88.75 Lac₹ 11,074/sq.ft.', '₹ 78.9 Lac', '₹ 64.9 Lac', '₹ 56.9 Lac', '₹ 37.5 Lac', '₹ 39.16  - 44.86 Lac₹ 7,010/sq.ft.', '₹ 38.7 Lac', '₹ 25.41 Lac', '₹ 77 Lac', '₹ 47  - 58.5 Lac', '₹ 3 Cr₹ 6,430/sq.ft.', '₹ 31.75  - 47.37 Lac', '₹ 71.45  - 77.9 Lac', '₹ 50.5  - 81.87 Lac', '₹ 58.19  - 70.79 Lac₹ 10,238/sq.ft.', '₹ 78.8  - 95.2 Lac₹ 9,993/sq.ft.', '₹ 47  - 48.5 Lac₹ 6,527/sq.ft.', '₹ 74.06  - 76.51 Lac₹ 7,013/sq.ft.', '₹ 46.88  - 75.38 Lac₹ 8,357/sq.ft.', '₹ 90 Lac₹ 8,249/sq.ft.', '₹ 90 Lac₹ 8,249/sq.ft.', '₹ 77.77 Lac', '₹ 55.55 Lac', '₹ 68.2 Lac', '₹ 89.56 Lac', '₹ 1.06  - 1.36 Cr₹ 10,982/sq.ft.', '₹ 84.9  - 88.75 Lac₹ 11,074/sq.ft.', '₹ 78.9 Lac', '₹ 64.9 Lac', '₹ 56.9 Lac', '₹ 37.5 Lac', '₹ 39.16  - 44.86 Lac₹ 7,010/sq.ft.', '₹ 38.7 Lac', '₹ 25.41 Lac', '₹ 77 Lac', '₹ 47  - 58.5 Lac', '₹ 3 Cr₹ 6,430/sq.ft.', '₹ 31.75  - 47.37 Lac', '₹ 71.45  - 77.9 Lac', '₹ 50.5  - 81.87 Lac', '₹ 58.19  - 70.79 Lac₹ 10,238/sq.ft.', '₹ 78.8  - 95.2 Lac₹ 9,993/sq.ft.', '₹ 47  - 48.5 Lac₹ 6,527/sq.ft.', '₹ 74.06  - 76.51 Lac₹ 7,013/sq.ft.', '₹ 46.88  - 75.38 Lac₹ 8,357/sq.ft.', '₹ 90 Lac₹ 8,249/sq.ft.', '₹ 90 Lac₹ 8,249/sq.ft.']\n",
      "['1,022', '698', '767', '955', '963-1,241', '766-802', '894', '725', '619', '430', '550-650', '691', '435', '894', '619-726', '4,665', '370-552', '820-894', '560-908', '568-691', '788-952', '720-743', '1,056-1,091', '561-902', '1,091', '1,091', '698', '1,022', '767', '955', '963-1,241', '766-802', '894', '725', '619', '430', '550-650', '691', '435', '894', '619-726', '4,665', '370-552', '820-894', '560-908', '568-691', '788-952', '720-743', '1,056-1,091', '561-902', '1,091', '1,091', '698', '1,022', '767', '955', '963-1,241', '766-802', '894', '725', '619', '430', '550-650', '691', '435', '894', '619-726', '4,665', '370-552', '820-894', '560-908', '568-691', '788-952', '720-743', '1,056-1,091', '561-902', '1,091', '1,091', '1,022', '698', '767', '955', '963-1,241', '766-802', '894', '725', '619', '430', '550-650', '691', '435', '894', '619-726', '4,665', '370-552', '820-894', '560-908', '568-691', '788-952', '720-743', '1,056-1,091', '561-902', '1,091', '1,091', '1,022', '698', '767', '955', '963-1,241', '766-802', '894', '725', '619', '430', '550-650', '691', '435', '894', '619-726', '4,665', '370-552', '820-894', '560-908', '568-691', '788-952', '720-743', '1,056-1,091', '561-902', '1,091', '1,091', '1,022', '698', '767', '955', '963-1,241', '766-802', '894', '725', '619', '430', '550-650', '691', '435', '894', '619-726', '4,665', '370-552', '820-894', '560-908', '568-691', '788-952', '720-743', '1,056-1,091', '561-902', '1,091', '1,091', '698', '1,022', '767', '955', '963-1,241', '766-802', '894', '725', '619', '430', '550-650', '691', '435', '894', '619-726', '4,665', '370-552', '820-894', '560-908', '568-691', '788-952', '720-743', '1,056-1,091', '561-902', '1,091', '1,091', '698', '1,022', '767', '955', '963-1,241', '766-802', '894', '725', '619', '430', '550-650', '691', '435', '894', '619-726', '4,665', '370-552', '820-894', '560-908', '568-691', '788-952', '720-743', '1,056-1,091', '561-902', '1,091', '1,091', '1,022', '698', '767', '955', '963-1,241', '766-802', '894', '725', '619', '430', '550-650', '691', '435', '894', '619-726', '4,665', '370-552', '820-894', '560-908', '568-691', '788-952', '720-743', '1,056-1,091', '561-902', '1,091', '1,091', '1,022', '698', '767', '955', '963-1,241', '766-802', '894', '725', '619', '430', '550-650', '691', '435', '894', '619-726', '4,665', '370-552', '820-894', '560-908', '568-691', '788-952', '720-743', '1,056-1,091', '561-902', '1,091', '1,091', '698', '1,022', '767', '955', '963-1,241', '766-802', '894', '725', '619', '430', '550-650', '691', '435', '894', '619-726', '4,665', '370-552', '820-894', '560-908', '568-691', '788-952', '720-743', '1,056-1,091', '561-902', '1,091', '1,091', '698', '1,022', '767', '955', '963-1,241', '766-802', '894', '725', '619', '430', '550-650', '691', '435', '894', '619-726', '4,665', '370-552', '820-894', '560-908', '568-691', '788-952', '720-743', '1,056-1,091', '561-902', '1,091', '1,091', '698', '1,022', '767', '955', '963-1,241', '766-802', '894', '725', '619', '430', '550-650', '691', '435', '894', '619-726', '4,665', '370-552', '820-894', '560-908', '568-691', '788-952', '720-743', '1,056-1,091', '561-902', '1,091', '1,091', '1,022', '698', '767', '955', '963-1,241', '766-802', '894', '725', '619', '430', '550-650', '691', '435', '894', '619-726', '4,665', '370-552', '820-894', '560-908', '568-691', '788-952', '720-743', '1,056-1,091', '561-902', '1,091', '1,091', '698', '1,022', '767', '955', '963-1,241', '766-802', '894', '725', '619', '430', '550-650', '691', '435', '894', '619-726', '4,665', '370-552', '820-894', '560-908', '568-691', '788-952', '720-743', '1,056-1,091', '561-902', '1,091', '1,091', '698', '1,022', '767', '955', '963-1,241', '766-802', '894', '725', '619', '430', '550-650', '691', '435', '894', '619-726', '4,665', '370-552', '820-894', '560-908', '568-691', '788-952', '720-743', '1,056-1,091', '561-902', '1,091', '1,091', '698', '1,022', '767', '955', '963-1,241', '766-802', '894', '725', '619', '430', '550-650', '691', '435', '894', '619-726', '4,665', '370-552', '820-894', '560-908', '568-691', '788-952', '720-743', '1,056-1,091', '561-902', '1,091', '1,091', '698', '1,022', '767', '955', '963-1,241', '766-802', '894', '725', '619', '430', '550-650', '691', '435', '894', '619-726', '4,665', '370-552', '820-894', '560-908', '568-691', '788-952', '720-743', '1,056-1,091', '561-902', '1,091', '1,091', '698', '1,022', '767', '955', '963-1,241', '766-802', '894', '725', '619', '430', '550-650', '691', '435', '894', '619-726', '4,665', '370-552', '820-894', '560-908', '568-691', '788-952', '720-743', '1,056-1,091', '561-902', '1,091', '1,091', '1,022', '698', '767', '955', '963-1,241', '766-802', '894', '725', '619', '430', '550-650', '691', '435', '894', '619-726', '4,665', '370-552', '820-894', '560-908', '568-691', '788-952', '720-743', '1,056-1,091', '561-902', '1,091', '1,091', '698', '1,022', '767', '955', '963-1,241', '766-802', '894', '725', '619', '430', '550-650', '691', '435', '894', '619-726', '4,665', '370-552', '820-894', '560-908', '568-691', '788-952', '720-743', '1,056-1,091', '561-902', '1,091', '1,091', '698', '1,022', '767', '955', '963-1,241', '766-802', '894', '725', '619', '430', '550-650', '691', '435', '894', '619-726', '4,665', '370-552', '820-894', '560-908', '568-691', '788-952', '720-743', '1,056-1,091', '561-902', '1,091', '1,091', '1,022', '698', '767', '955', '963-1,241', '766-802', '894', '725', '619', '430', '550-650', '691', '435', '894', '619-726', '4,665', '370-552', '820-894', '560-908', '568-691', '788-952', '720-743', '1,056-1,091', '561-902', '1,091', '1,091', '698', '1,022', '767', '955', '963-1,241', '766-802', '894', '725', '619', '430', '550-650', '691', '435', '894', '619-726', '4,665', '370-552', '820-894', '560-908', '568-691', '788-952', '720-743', '1,056-1,091', '561-902', '1,091', '1,091', '1,022', '698', '767', '955', '963-1,241', '766-802', '894', '725', '619', '430', '550-650', '691', '435', '894', '619-726', '4,665', '370-552', '820-894', '560-908', '568-691', '788-952', '720-743', '1,056-1,091', '561-902', '1,091', '1,091']\n",
      "['2 BHK', '1 BHK', '2 BHK', '3 BHK', '3 BHK3 Baths', '2 BHK2 Baths', '3 BHK', '2 BHK', '2 BHK', '1 BHK', '2 BHK', '2 BHK2 Baths', '1 BHK1 Bath', '3 BHK', '2 BHK', '4 BHK5 Baths', '1 BHK1 Bath', '3 BHK', '2 BHK2 Baths', '2 BHK2 Baths', '3 BHK3 Baths', '2 BHK2 Baths', '3 BHK3 Baths', '2 BHK2 Baths', '3 BHK3 Baths', '3 BHK3 Baths', '1 BHK', '2 BHK', '2 BHK', '3 BHK', '3 BHK3 Baths', '2 BHK2 Baths', '3 BHK', '2 BHK', '2 BHK', '1 BHK', '2 BHK', '2 BHK2 Baths', '1 BHK1 Bath', '3 BHK', '2 BHK', '4 BHK5 Baths', '1 BHK1 Bath', '3 BHK', '2 BHK2 Baths', '2 BHK2 Baths', '3 BHK3 Baths', '2 BHK2 Baths', '3 BHK3 Baths', '2 BHK2 Baths', '3 BHK3 Baths', '3 BHK3 Baths', '1 BHK', '2 BHK', '2 BHK', '3 BHK', '3 BHK3 Baths', '2 BHK2 Baths', '3 BHK', '2 BHK', '2 BHK', '1 BHK', '2 BHK', '2 BHK2 Baths', '1 BHK1 Bath', '3 BHK', '2 BHK', '4 BHK5 Baths', '1 BHK1 Bath', '3 BHK', '2 BHK2 Baths', '2 BHK2 Baths', '3 BHK3 Baths', '2 BHK2 Baths', '3 BHK3 Baths', '2 BHK2 Baths', '3 BHK3 Baths', '3 BHK3 Baths', '2 BHK', '1 BHK', '2 BHK', '3 BHK', '3 BHK3 Baths', '2 BHK2 Baths', '3 BHK', '2 BHK', '2 BHK', '1 BHK', '2 BHK', '2 BHK2 Baths', '1 BHK1 Bath', '3 BHK', '2 BHK', '4 BHK5 Baths', '1 BHK1 Bath', '3 BHK', '2 BHK2 Baths', '2 BHK2 Baths', '3 BHK3 Baths', '2 BHK2 Baths', '3 BHK3 Baths', '2 BHK2 Baths', '3 BHK3 Baths', '3 BHK3 Baths', '2 BHK', '1 BHK', '2 BHK', '3 BHK', '3 BHK3 Baths', '2 BHK2 Baths', '3 BHK', '2 BHK', '2 BHK', '1 BHK', '2 BHK', '2 BHK2 Baths', '1 BHK1 Bath', '3 BHK', '2 BHK', '4 BHK5 Baths', '1 BHK1 Bath', '3 BHK', '2 BHK2 Baths', '2 BHK2 Baths', '3 BHK3 Baths', '2 BHK2 Baths', '3 BHK3 Baths', '2 BHK2 Baths', '3 BHK3 Baths', '3 BHK3 Baths', '2 BHK', '1 BHK', '2 BHK', '3 BHK', '3 BHK3 Baths', '2 BHK2 Baths', '3 BHK', '2 BHK', '2 BHK', '1 BHK', '2 BHK', '2 BHK2 Baths', '1 BHK1 Bath', '3 BHK', '2 BHK', '4 BHK5 Baths', '1 BHK1 Bath', '3 BHK', '2 BHK2 Baths', '2 BHK2 Baths', '3 BHK3 Baths', '2 BHK2 Baths', '3 BHK3 Baths', '2 BHK2 Baths', '3 BHK3 Baths', '3 BHK3 Baths', '1 BHK', '2 BHK', '2 BHK', '3 BHK', '3 BHK3 Baths', '2 BHK2 Baths', '3 BHK', '2 BHK', '2 BHK', '1 BHK', '2 BHK', '2 BHK2 Baths', '1 BHK1 Bath', '3 BHK', '2 BHK', '4 BHK5 Baths', '1 BHK1 Bath', '3 BHK', '2 BHK2 Baths', '2 BHK2 Baths', '3 BHK3 Baths', '2 BHK2 Baths', '3 BHK3 Baths', '2 BHK2 Baths', '3 BHK3 Baths', '3 BHK3 Baths', '1 BHK', '2 BHK', '2 BHK', '3 BHK', '3 BHK3 Baths', '2 BHK2 Baths', '3 BHK', '2 BHK', '2 BHK', '1 BHK', '2 BHK', '2 BHK2 Baths', '1 BHK1 Bath', '3 BHK', '2 BHK', '4 BHK5 Baths', '1 BHK1 Bath', '3 BHK', '2 BHK2 Baths', '2 BHK2 Baths', '3 BHK3 Baths', '2 BHK2 Baths', '3 BHK3 Baths', '2 BHK2 Baths', '3 BHK3 Baths', '3 BHK3 Baths', '2 BHK', '1 BHK', '2 BHK', '3 BHK', '3 BHK3 Baths', '2 BHK2 Baths', '3 BHK', '2 BHK', '2 BHK', '1 BHK', '2 BHK', '2 BHK2 Baths', '1 BHK1 Bath', '3 BHK', '2 BHK', '4 BHK5 Baths', '1 BHK1 Bath', '3 BHK', '2 BHK2 Baths', '2 BHK2 Baths', '3 BHK3 Baths', '2 BHK2 Baths', '3 BHK3 Baths', '2 BHK2 Baths', '3 BHK3 Baths', '3 BHK3 Baths', '2 BHK', '1 BHK', '2 BHK', '3 BHK', '3 BHK3 Baths', '2 BHK2 Baths', '3 BHK', '2 BHK', '2 BHK', '1 BHK', '2 BHK', '2 BHK2 Baths', '1 BHK1 Bath', '3 BHK', '2 BHK', '4 BHK5 Baths', '1 BHK1 Bath', '3 BHK', '2 BHK2 Baths', '2 BHK2 Baths', '3 BHK3 Baths', '2 BHK2 Baths', '3 BHK3 Baths', '2 BHK2 Baths', '3 BHK3 Baths', '3 BHK3 Baths', '1 BHK', '2 BHK', '2 BHK', '3 BHK', '3 BHK3 Baths', '2 BHK2 Baths', '3 BHK', '2 BHK', '2 BHK', '1 BHK', '2 BHK', '2 BHK2 Baths', '1 BHK1 Bath', '3 BHK', '2 BHK', '4 BHK5 Baths', '1 BHK1 Bath', '3 BHK', '2 BHK2 Baths', '2 BHK2 Baths', '3 BHK3 Baths', '2 BHK2 Baths', '3 BHK3 Baths', '2 BHK2 Baths', '3 BHK3 Baths', '3 BHK3 Baths', '1 BHK', '2 BHK', '2 BHK', '3 BHK', '3 BHK3 Baths', '2 BHK2 Baths', '3 BHK', '2 BHK', '2 BHK', '1 BHK', '2 BHK', '2 BHK2 Baths', '1 BHK1 Bath', '3 BHK', '2 BHK', '4 BHK5 Baths', '1 BHK1 Bath', '3 BHK', '2 BHK2 Baths', '2 BHK2 Baths', '3 BHK3 Baths', '2 BHK2 Baths', '3 BHK3 Baths', '2 BHK2 Baths', '3 BHK3 Baths', '3 BHK3 Baths', '1 BHK', '2 BHK', '2 BHK', '3 BHK', '3 BHK3 Baths', '2 BHK2 Baths', '3 BHK', '2 BHK', '2 BHK', '1 BHK', '2 BHK', '2 BHK2 Baths', '1 BHK1 Bath', '3 BHK', '2 BHK', '4 BHK5 Baths', '1 BHK1 Bath', '3 BHK', '2 BHK2 Baths', '2 BHK2 Baths', '3 BHK3 Baths', '2 BHK2 Baths', '3 BHK3 Baths', '2 BHK2 Baths', '3 BHK3 Baths', '3 BHK3 Baths', '2 BHK', '1 BHK', '2 BHK', '3 BHK', '3 BHK3 Baths', '2 BHK2 Baths', '3 BHK', '2 BHK', '2 BHK', '1 BHK', '2 BHK', '2 BHK2 Baths', '1 BHK1 Bath', '3 BHK', '2 BHK', '4 BHK5 Baths', '1 BHK1 Bath', '3 BHK', '2 BHK2 Baths', '2 BHK2 Baths', '3 BHK3 Baths', '2 BHK2 Baths', '3 BHK3 Baths', '2 BHK2 Baths', '3 BHK3 Baths', '3 BHK3 Baths', '1 BHK', '2 BHK', '2 BHK', '3 BHK', '3 BHK3 Baths', '2 BHK2 Baths', '3 BHK', '2 BHK', '2 BHK', '1 BHK', '2 BHK', '2 BHK2 Baths', '1 BHK1 Bath', '3 BHK', '2 BHK', '4 BHK5 Baths', '1 BHK1 Bath', '3 BHK', '2 BHK2 Baths', '2 BHK2 Baths', '3 BHK3 Baths', '2 BHK2 Baths', '3 BHK3 Baths', '2 BHK2 Baths', '3 BHK3 Baths', '3 BHK3 Baths', '1 BHK', '2 BHK', '2 BHK', '3 BHK', '3 BHK3 Baths', '2 BHK2 Baths', '3 BHK', '2 BHK', '2 BHK', '1 BHK', '2 BHK', '2 BHK2 Baths', '1 BHK1 Bath', '3 BHK', '2 BHK', '4 BHK5 Baths', '1 BHK1 Bath', '3 BHK', '2 BHK2 Baths', '2 BHK2 Baths', '3 BHK3 Baths', '2 BHK2 Baths', '3 BHK3 Baths', '2 BHK2 Baths', '3 BHK3 Baths', '3 BHK3 Baths', '1 BHK', '2 BHK', '2 BHK', '3 BHK', '3 BHK3 Baths', '2 BHK2 Baths', '3 BHK', '2 BHK', '2 BHK', '1 BHK', '2 BHK', '2 BHK2 Baths', '1 BHK1 Bath', '3 BHK', '2 BHK', '4 BHK5 Baths', '1 BHK1 Bath', '3 BHK', '2 BHK2 Baths', '2 BHK2 Baths', '3 BHK3 Baths', '2 BHK2 Baths', '3 BHK3 Baths', '2 BHK2 Baths', '3 BHK3 Baths', '3 BHK3 Baths', '1 BHK', '2 BHK', '2 BHK', '3 BHK', '3 BHK3 Baths', '2 BHK2 Baths', '3 BHK', '2 BHK', '2 BHK', '1 BHK', '2 BHK', '2 BHK2 Baths', '1 BHK1 Bath', '3 BHK', '2 BHK', '4 BHK5 Baths', '1 BHK1 Bath', '3 BHK', '2 BHK2 Baths', '2 BHK2 Baths', '3 BHK3 Baths', '2 BHK2 Baths', '3 BHK3 Baths', '2 BHK2 Baths', '3 BHK3 Baths', '3 BHK3 Baths', '1 BHK', '2 BHK', '2 BHK', '3 BHK', '3 BHK3 Baths', '2 BHK2 Baths', '3 BHK', '2 BHK', '2 BHK', '1 BHK', '2 BHK', '2 BHK2 Baths', '1 BHK1 Bath', '3 BHK', '2 BHK', '4 BHK5 Baths', '1 BHK1 Bath', '3 BHK', '2 BHK2 Baths', '2 BHK2 Baths', '3 BHK3 Baths', '2 BHK2 Baths', '3 BHK3 Baths', '2 BHK2 Baths', '3 BHK3 Baths', '3 BHK3 Baths', '2 BHK', '1 BHK', '2 BHK', '3 BHK', '3 BHK3 Baths', '2 BHK2 Baths', '3 BHK', '2 BHK', '2 BHK', '1 BHK', '2 BHK', '2 BHK2 Baths', '1 BHK1 Bath', '3 BHK', '2 BHK', '4 BHK5 Baths', '1 BHK1 Bath', '3 BHK', '2 BHK2 Baths', '2 BHK2 Baths', '3 BHK3 Baths', '2 BHK2 Baths', '3 BHK3 Baths', '2 BHK2 Baths', '3 BHK3 Baths', '3 BHK3 Baths', '1 BHK', '2 BHK', '2 BHK', '3 BHK', '3 BHK3 Baths', '2 BHK2 Baths', '3 BHK', '2 BHK', '2 BHK', '1 BHK', '2 BHK', '2 BHK2 Baths', '1 BHK1 Bath', '3 BHK', '2 BHK', '4 BHK5 Baths', '1 BHK1 Bath', '3 BHK', '2 BHK2 Baths', '2 BHK2 Baths', '3 BHK3 Baths', '2 BHK2 Baths', '3 BHK3 Baths', '2 BHK2 Baths', '3 BHK3 Baths', '3 BHK3 Baths', '1 BHK', '2 BHK', '2 BHK', '3 BHK', '3 BHK3 Baths', '2 BHK2 Baths', '3 BHK', '2 BHK', '2 BHK', '1 BHK', '2 BHK', '2 BHK2 Baths', '1 BHK1 Bath', '3 BHK', '2 BHK', '4 BHK5 Baths', '1 BHK1 Bath', '3 BHK', '2 BHK2 Baths', '2 BHK2 Baths', '3 BHK3 Baths', '2 BHK2 Baths', '3 BHK3 Baths', '2 BHK2 Baths', '3 BHK3 Baths', '3 BHK3 Baths', '2 BHK', '1 BHK', '2 BHK', '3 BHK', '3 BHK3 Baths', '2 BHK2 Baths', '3 BHK', '2 BHK', '2 BHK', '1 BHK', '2 BHK', '2 BHK2 Baths', '1 BHK1 Bath', '3 BHK', '2 BHK', '4 BHK5 Baths', '1 BHK1 Bath', '3 BHK', '2 BHK2 Baths', '2 BHK2 Baths', '3 BHK3 Baths', '2 BHK2 Baths', '3 BHK3 Baths', '2 BHK2 Baths', '3 BHK3 Baths', '3 BHK3 Baths', '1 BHK', '2 BHK', '2 BHK', '3 BHK', '3 BHK3 Baths', '2 BHK2 Baths', '3 BHK', '2 BHK', '2 BHK', '1 BHK', '2 BHK', '2 BHK2 Baths', '1 BHK1 Bath', '3 BHK', '2 BHK', '4 BHK5 Baths', '1 BHK1 Bath', '3 BHK', '2 BHK2 Baths', '2 BHK2 Baths', '3 BHK3 Baths', '2 BHK2 Baths', '3 BHK3 Baths', '2 BHK2 Baths', '3 BHK3 Baths', '3 BHK3 Baths', '2 BHK', '1 BHK', '2 BHK', '3 BHK', '3 BHK3 Baths', '2 BHK2 Baths', '3 BHK', '2 BHK', '2 BHK', '1 BHK', '2 BHK', '2 BHK2 Baths', '1 BHK1 Bath', '3 BHK', '2 BHK', '4 BHK5 Baths', '1 BHK1 Bath', '3 BHK', '2 BHK2 Baths', '2 BHK2 Baths', '3 BHK3 Baths', '2 BHK2 Baths', '3 BHK3 Baths', '2 BHK2 Baths', '3 BHK3 Baths', '3 BHK3 Baths']\n",
      "['Super Area', 'Super Area', 'Carpet Area', 'Carpet Area', 'Carpet Area', 'Carpet Area', 'Carpet Area', 'Carpet Area', 'Carpet Area', 'Carpet Area', 'Carpet Area', 'Carpet Area', 'Carpet Area', 'Carpet Area', 'Carpet Area', 'Super Area', 'Carpet Area', 'Carpet Area', 'Carpet Area', 'Carpet Area', 'Carpet Area', 'Carpet Area', 'Carpet Area', 'Carpet Area', 'Carpet Area', 'Carpet Area', 'Super Area', 'Super Area', 'Carpet Area', 'Carpet Area', 'Carpet Area', 'Carpet Area', 'Carpet Area', 'Carpet Area', 'Carpet Area', 'Carpet Area', 'Carpet Area', 'Carpet Area', 'Carpet Area', 'Carpet Area', 'Carpet Area', 'Super Area', 'Carpet Area', 'Carpet Area', 'Carpet Area', 'Carpet Area', 'Carpet Area', 'Carpet Area', 'Carpet Area', 'Carpet Area', 'Carpet Area', 'Carpet Area', 'Super Area', 'Super Area', 'Carpet Area', 'Carpet Area', 'Carpet Area', 'Carpet Area', 'Carpet Area', 'Carpet Area', 'Carpet Area', 'Carpet Area', 'Carpet Area', 'Carpet Area', 'Carpet Area', 'Carpet Area', 'Carpet Area', 'Super Area', 'Carpet Area', 'Carpet Area', 'Carpet Area', 'Carpet Area', 'Carpet Area', 'Carpet Area', 'Carpet Area', 'Carpet Area', 'Carpet Area', 'Carpet Area', 'Super Area', 'Super Area', 'Carpet Area', 'Carpet Area', 'Carpet Area', 'Carpet Area', 'Carpet Area', 'Carpet Area', 'Carpet Area', 'Carpet Area', 'Carpet Area', 'Carpet Area', 'Carpet Area', 'Carpet Area', 'Carpet Area', 'Super Area', 'Carpet Area', 'Carpet Area', 'Carpet Area', 'Carpet Area', 'Carpet Area', 'Carpet Area', 'Carpet Area', 'Carpet Area', 'Carpet Area', 'Carpet Area', 'Super Area', 'Super Area', 'Carpet Area', 'Carpet Area', 'Carpet Area', 'Carpet Area', 'Carpet Area', 'Carpet Area', 'Carpet Area', 'Carpet Area', 'Carpet Area', 'Carpet Area', 'Carpet Area', 'Carpet Area', 'Carpet Area', 'Super Area', 'Carpet Area', 'Carpet Area', 'Carpet Area', 'Carpet Area', 'Carpet Area', 'Carpet Area', 'Carpet Area', 'Carpet Area', 'Carpet Area', 'Carpet Area', 'Super Area', 'Super Area', 'Carpet Area', 'Carpet Area', 'Carpet Area', 'Carpet Area', 'Carpet Area', 'Carpet Area', 'Carpet Area', 'Carpet Area', 'Carpet Area', 'Carpet Area', 'Carpet Area', 'Carpet Area', 'Carpet Area', 'Super Area', 'Carpet Area', 'Carpet Area', 'Carpet Area', 'Carpet Area', 'Carpet Area', 'Carpet Area', 'Carpet Area', 'Carpet Area', 'Carpet Area', 'Carpet Area', 'Super Area', 'Super Area', 'Carpet Area', 'Carpet Area', 'Carpet Area', 'Carpet Area', 'Carpet Area', 'Carpet Area', 'Carpet Area', 'Carpet Area', 'Carpet Area', 'Carpet Area', 'Carpet Area', 'Carpet Area', 'Carpet Area', 'Super Area', 'Carpet Area', 'Carpet Area', 'Carpet Area', 'Carpet Area', 'Carpet Area', 'Carpet Area', 'Carpet Area', 'Carpet Area', 'Carpet Area', 'Carpet Area', 'Super Area', 'Super Area', 'Carpet Area', 'Carpet Area', 'Carpet Area', 'Carpet Area', 'Carpet Area', 'Carpet Area', 'Carpet Area', 'Carpet Area', 'Carpet Area', 'Carpet Area', 'Carpet Area', 'Carpet Area', 'Carpet Area', 'Super Area', 'Carpet Area', 'Carpet Area', 'Carpet Area', 'Carpet Area', 'Carpet Area', 'Carpet Area', 'Carpet Area', 'Carpet Area', 'Carpet Area', 'Carpet Area', 'Super Area', 'Super Area', 'Carpet Area', 'Carpet Area', 'Carpet Area', 'Carpet Area', 'Carpet Area', 'Carpet Area', 'Carpet Area', 'Carpet Area', 'Carpet Area', 'Carpet Area', 'Carpet Area', 'Carpet Area', 'Carpet Area', 'Super Area', 'Carpet Area', 'Carpet Area', 'Carpet Area', 'Carpet Area', 'Carpet Area', 'Carpet Area', 'Carpet Area', 'Carpet Area', 'Carpet Area', 'Carpet Area', 'Super Area', 'Super Area', 'Carpet Area', 'Carpet Area', 'Carpet Area', 'Carpet Area', 'Carpet Area', 'Carpet Area', 'Carpet Area', 'Carpet Area', 'Carpet Area', 'Carpet Area', 'Carpet Area', 'Carpet Area', 'Carpet Area', 'Super Area', 'Carpet Area', 'Carpet Area', 'Carpet Area', 'Carpet Area', 'Carpet Area', 'Carpet Area', 'Carpet Area', 'Carpet Area', 'Carpet Area', 'Carpet Area', 'Super Area', 'Super Area', 'Carpet Area', 'Carpet Area', 'Carpet Area', 'Carpet Area', 'Carpet Area', 'Carpet Area', 'Carpet Area', 'Carpet Area', 'Carpet Area', 'Carpet Area', 'Carpet Area', 'Carpet Area', 'Carpet Area', 'Super Area', 'Carpet Area', 'Carpet Area', 'Carpet Area', 'Carpet Area', 'Carpet Area', 'Carpet Area', 'Carpet Area', 'Carpet Area', 'Carpet Area', 'Carpet Area', 'Super Area', 'Super Area', 'Carpet Area', 'Carpet Area', 'Carpet Area', 'Carpet Area', 'Carpet Area', 'Carpet Area', 'Carpet Area', 'Carpet Area', 'Carpet Area', 'Carpet Area', 'Carpet Area', 'Carpet Area', 'Carpet Area', 'Super Area', 'Carpet Area', 'Carpet Area', 'Carpet Area', 'Carpet Area', 'Carpet Area', 'Carpet Area', 'Carpet Area', 'Carpet Area', 'Carpet Area', 'Carpet Area', 'Super Area', 'Super Area', 'Carpet Area', 'Carpet Area', 'Carpet Area', 'Carpet Area', 'Carpet Area', 'Carpet Area', 'Carpet Area', 'Carpet Area', 'Carpet Area', 'Carpet Area', 'Carpet Area', 'Carpet Area', 'Carpet Area', 'Super Area', 'Carpet Area', 'Carpet Area', 'Carpet Area', 'Carpet Area', 'Carpet Area', 'Carpet Area', 'Carpet Area', 'Carpet Area', 'Carpet Area', 'Carpet Area', 'Super Area', 'Super Area', 'Carpet Area', 'Carpet Area', 'Carpet Area', 'Carpet Area', 'Carpet Area', 'Carpet Area', 'Carpet Area', 'Carpet Area', 'Carpet Area', 'Carpet Area', 'Carpet Area', 'Carpet Area', 'Carpet Area', 'Super Area', 'Carpet Area', 'Carpet Area', 'Carpet Area', 'Carpet Area', 'Carpet Area', 'Carpet Area', 'Carpet Area', 'Carpet Area', 'Carpet Area', 'Carpet Area', 'Super Area', 'Super Area', 'Carpet Area', 'Carpet Area', 'Carpet Area', 'Carpet Area', 'Carpet Area', 'Carpet Area', 'Carpet Area', 'Carpet Area', 'Carpet Area', 'Carpet Area', 'Carpet Area', 'Carpet Area', 'Carpet Area', 'Super Area', 'Carpet Area', 'Carpet Area', 'Carpet Area', 'Carpet Area', 'Carpet Area', 'Carpet Area', 'Carpet Area', 'Carpet Area', 'Carpet Area', 'Carpet Area', 'Super Area', 'Super Area', 'Carpet Area', 'Carpet Area', 'Carpet Area', 'Carpet Area', 'Carpet Area', 'Carpet Area', 'Carpet Area', 'Carpet Area', 'Carpet Area', 'Carpet Area', 'Carpet Area', 'Carpet Area', 'Carpet Area', 'Super Area', 'Carpet Area', 'Carpet Area', 'Carpet Area', 'Carpet Area', 'Carpet Area', 'Carpet Area', 'Carpet Area', 'Carpet Area', 'Carpet Area', 'Carpet Area', 'Super Area', 'Super Area', 'Carpet Area', 'Carpet Area', 'Carpet Area', 'Carpet Area', 'Carpet Area', 'Carpet Area', 'Carpet Area', 'Carpet Area', 'Carpet Area', 'Carpet Area', 'Carpet Area', 'Carpet Area', 'Carpet Area', 'Super Area', 'Carpet Area', 'Carpet Area', 'Carpet Area', 'Carpet Area', 'Carpet Area', 'Carpet Area', 'Carpet Area', 'Carpet Area', 'Carpet Area', 'Carpet Area', 'Super Area', 'Super Area', 'Carpet Area', 'Carpet Area', 'Carpet Area', 'Carpet Area', 'Carpet Area', 'Carpet Area', 'Carpet Area', 'Carpet Area', 'Carpet Area', 'Carpet Area', 'Carpet Area', 'Carpet Area', 'Carpet Area', 'Super Area', 'Carpet Area', 'Carpet Area', 'Carpet Area', 'Carpet Area', 'Carpet Area', 'Carpet Area', 'Carpet Area', 'Carpet Area', 'Carpet Area', 'Carpet Area', 'Super Area', 'Super Area', 'Carpet Area', 'Carpet Area', 'Carpet Area', 'Carpet Area', 'Carpet Area', 'Carpet Area', 'Carpet Area', 'Carpet Area', 'Carpet Area', 'Carpet Area', 'Carpet Area', 'Carpet Area', 'Carpet Area', 'Super Area', 'Carpet Area', 'Carpet Area', 'Carpet Area', 'Carpet Area', 'Carpet Area', 'Carpet Area', 'Carpet Area', 'Carpet Area', 'Carpet Area', 'Carpet Area', 'Super Area', 'Super Area', 'Carpet Area', 'Carpet Area', 'Carpet Area', 'Carpet Area', 'Carpet Area', 'Carpet Area', 'Carpet Area', 'Carpet Area', 'Carpet Area', 'Carpet Area', 'Carpet Area', 'Carpet Area', 'Carpet Area', 'Super Area', 'Carpet Area', 'Carpet Area', 'Carpet Area', 'Carpet Area', 'Carpet Area', 'Carpet Area', 'Carpet Area', 'Carpet Area', 'Carpet Area', 'Carpet Area', 'Super Area', 'Super Area', 'Carpet Area', 'Carpet Area', 'Carpet Area', 'Carpet Area', 'Carpet Area', 'Carpet Area', 'Carpet Area', 'Carpet Area', 'Carpet Area', 'Carpet Area', 'Carpet Area', 'Carpet Area', 'Carpet Area', 'Super Area', 'Carpet Area', 'Carpet Area', 'Carpet Area', 'Carpet Area', 'Carpet Area', 'Carpet Area', 'Carpet Area', 'Carpet Area', 'Carpet Area', 'Carpet Area', 'Super Area', 'Super Area', 'Carpet Area', 'Carpet Area', 'Carpet Area', 'Carpet Area', 'Carpet Area', 'Carpet Area', 'Carpet Area', 'Carpet Area', 'Carpet Area', 'Carpet Area', 'Carpet Area', 'Carpet Area', 'Carpet Area', 'Super Area', 'Carpet Area', 'Carpet Area', 'Carpet Area', 'Carpet Area', 'Carpet Area', 'Carpet Area', 'Carpet Area', 'Carpet Area', 'Carpet Area', 'Carpet Area', 'Super Area', 'Super Area', 'Carpet Area', 'Carpet Area', 'Carpet Area', 'Carpet Area', 'Carpet Area', 'Carpet Area', 'Carpet Area', 'Carpet Area', 'Carpet Area', 'Carpet Area', 'Carpet Area', 'Carpet Area', 'Carpet Area', 'Super Area', 'Carpet Area', 'Carpet Area', 'Carpet Area', 'Carpet Area', 'Carpet Area', 'Carpet Area', 'Carpet Area', 'Carpet Area', 'Carpet Area', 'Carpet Area', 'Super Area', 'Super Area', 'Carpet Area', 'Carpet Area', 'Carpet Area', 'Carpet Area', 'Carpet Area', 'Carpet Area', 'Carpet Area', 'Carpet Area', 'Carpet Area', 'Carpet Area', 'Carpet Area', 'Carpet Area', 'Carpet Area', 'Super Area', 'Carpet Area', 'Carpet Area', 'Carpet Area', 'Carpet Area', 'Carpet Area', 'Carpet Area', 'Carpet Area', 'Carpet Area', 'Carpet Area', 'Carpet Area', 'Super Area', 'Super Area', 'Carpet Area', 'Carpet Area', 'Carpet Area', 'Carpet Area', 'Carpet Area', 'Carpet Area', 'Carpet Area', 'Carpet Area', 'Carpet Area', 'Carpet Area', 'Carpet Area', 'Carpet Area', 'Carpet Area', 'Super Area', 'Carpet Area', 'Carpet Area', 'Carpet Area', 'Carpet Area', 'Carpet Area', 'Carpet Area', 'Carpet Area', 'Carpet Area', 'Carpet Area', 'Carpet Area']\n"
     ]
    }
   ],
   "source": [
    "#Creating list to store the values\n",
    "project_name=[]\n",
    "specification=[]\n",
    "pareas=[]\n",
    "sareas=[]\n",
    "prices=[]\n",
    "BHK=[]\n",
    "housetype=[]\n",
    "\n",
    "#Running the scrapper for 25 pages to get details at 99acres.com\n",
    "for page in range(1,26):\n",
    "    URL='https://www.99acres.com/property-in-hadapsar-pune-ffid-page-'+str(page)\n",
    "    URL = 'https://www.99acres.com/property-in-hadapsar-pune-ffid-page-1'\n",
    "    page = requests.get(URL)\n",
    "\n",
    "    soup = BeautifulSoup(page.content, 'html.parser')\n",
    "    results=soup.find_all( class_='srpTuple__tupleTable')\n",
    "\n",
    "    #getting indicidual results for each property\n",
    "    for x in results:\n",
    "        \n",
    "        #finding Project name\n",
    "        name=x.find(id='srp_tuple_society_heading')\n",
    "        project_name.append(name.text)\n",
    "        \n",
    "        #finding project specification\n",
    "        spec = x.find('h2')\n",
    "        specification.append(spec.text)\n",
    "        \n",
    "        #finding project prices\n",
    "        price=x.find(id='srp_tuple_price')\n",
    "        prices.append(price.text)\n",
    "        \n",
    "        #finding Primary Area\n",
    "        parea=x.find(id='srp_tuple_primary_area')\n",
    "        parea=(parea.text).split(\" \")\n",
    "        pareas.append(parea[0])\n",
    "        \n",
    "        #finding secondary Area\n",
    "        sarea=x.find(id='srp_tuple_secondary_area')\n",
    "        sarea=(sarea.text).lstrip(\"(\").split(\" \")\n",
    "        sareas.append(sarea[0])\n",
    "        \n",
    "        #finding house type\n",
    "        if(\"Super\" in sarea):\n",
    "            housetype.append(\"Super Area\")\n",
    "        else:\n",
    "            housetype.append(\"Carpet Area\")\n",
    "        bedroom=x.find(id='srp_tuple_bedroom')\n",
    "        BHK.append(bedroom.text)\n",
    "\n",
    "print(project_name)\n",
    "print(specification)\n",
    "print(prices)\n",
    "print(pareas)\n",
    "print(BHK)\n",
    "print(housetype)\n",
    "    "
   ]
  },
  {
   "cell_type": "markdown",
   "metadata": {},
   "source": [
    "## Part 2 - Converting the lists to dataframe for manupulation"
   ]
  },
  {
   "cell_type": "code",
   "execution_count": 3,
   "metadata": {
    "scrolled": true
   },
   "outputs": [
    {
     "data": {
      "text/html": [
       "<div>\n",
       "<style scoped>\n",
       "    .dataframe tbody tr th:only-of-type {\n",
       "        vertical-align: middle;\n",
       "    }\n",
       "\n",
       "    .dataframe tbody tr th {\n",
       "        vertical-align: top;\n",
       "    }\n",
       "\n",
       "    .dataframe thead th {\n",
       "        text-align: right;\n",
       "    }\n",
       "</style>\n",
       "<table border=\"1\" class=\"dataframe\">\n",
       "  <thead>\n",
       "    <tr style=\"text-align: right;\">\n",
       "      <th></th>\n",
       "      <th>Project Name</th>\n",
       "      <th>Specification</th>\n",
       "      <th>BHK</th>\n",
       "      <th>Primary Area</th>\n",
       "      <th>Secondary Area</th>\n",
       "      <th>Area Type</th>\n",
       "      <th>Value</th>\n",
       "    </tr>\n",
       "  </thead>\n",
       "  <tbody>\n",
       "    <tr>\n",
       "      <th>0</th>\n",
       "      <td>Ambrosia Alley</td>\n",
       "      <td>2 BHK Residential Apartment in Hadapsar</td>\n",
       "      <td>2 BHK</td>\n",
       "      <td>1,022</td>\n",
       "      <td>95</td>\n",
       "      <td>Super Area</td>\n",
       "      <td>₹ 77.77 Lac</td>\n",
       "    </tr>\n",
       "    <tr>\n",
       "      <th>1</th>\n",
       "      <td>Ambrosia Alley</td>\n",
       "      <td>1 BHK Residential Apartment in Hadapsar</td>\n",
       "      <td>1 BHK</td>\n",
       "      <td>698</td>\n",
       "      <td>65</td>\n",
       "      <td>Super Area</td>\n",
       "      <td>₹ 55.55 Lac</td>\n",
       "    </tr>\n",
       "    <tr>\n",
       "      <th>2</th>\n",
       "      <td>Unika</td>\n",
       "      <td>2 BHK Residential Apartment in Hadapsar</td>\n",
       "      <td>2 BHK</td>\n",
       "      <td>767</td>\n",
       "      <td>71</td>\n",
       "      <td>Carpet Area</td>\n",
       "      <td>₹ 68.2 Lac</td>\n",
       "    </tr>\n",
       "    <tr>\n",
       "      <th>3</th>\n",
       "      <td>Unika</td>\n",
       "      <td>3 BHK Residential Apartment in Hadapsar</td>\n",
       "      <td>3 BHK</td>\n",
       "      <td>955</td>\n",
       "      <td>89</td>\n",
       "      <td>Carpet Area</td>\n",
       "      <td>₹ 89.56 Lac</td>\n",
       "    </tr>\n",
       "    <tr>\n",
       "      <th>4</th>\n",
       "      <td>Nyati Evolve</td>\n",
       "      <td>3 BHK Residential Apartment in Magarpatta</td>\n",
       "      <td>3 BHK3 Baths</td>\n",
       "      <td>963-1,241</td>\n",
       "      <td>89-115</td>\n",
       "      <td>Carpet Area</td>\n",
       "      <td>₹ 1.06  - 1.36 Cr₹ 10,982/sq.ft.</td>\n",
       "    </tr>\n",
       "  </tbody>\n",
       "</table>\n",
       "</div>"
      ],
      "text/plain": [
       "     Project Name                              Specification           BHK  \\\n",
       "0  Ambrosia Alley    2 BHK Residential Apartment in Hadapsar         2 BHK   \n",
       "1  Ambrosia Alley    1 BHK Residential Apartment in Hadapsar         1 BHK   \n",
       "2           Unika    2 BHK Residential Apartment in Hadapsar         2 BHK   \n",
       "3           Unika    3 BHK Residential Apartment in Hadapsar         3 BHK   \n",
       "4    Nyati Evolve  3 BHK Residential Apartment in Magarpatta  3 BHK3 Baths   \n",
       "\n",
       "  Primary Area Secondary Area    Area Type                             Value  \n",
       "0        1,022             95   Super Area                       ₹ 77.77 Lac  \n",
       "1          698             65   Super Area                       ₹ 55.55 Lac  \n",
       "2          767             71  Carpet Area                        ₹ 68.2 Lac  \n",
       "3          955             89  Carpet Area                       ₹ 89.56 Lac  \n",
       "4    963-1,241         89-115  Carpet Area  ₹ 1.06  - 1.36 Cr₹ 10,982/sq.ft.  "
      ]
     },
     "execution_count": 3,
     "metadata": {},
     "output_type": "execute_result"
    }
   ],
   "source": [
    "import pandas as pd \n",
    "  \n",
    "# dictionary of lists \n",
    "dic = {'Project Name': project_name, 'Specification': specification, 'BHK':BHK,'Primary Area': pareas,\n",
    "       'Secondary Area':sareas,'Area Type':housetype,'Value':prices} \n",
    "    \n",
    "df = pd.DataFrame(dic)\n",
    "df.to_csv('project.csv', index = False)\n",
    "df.head()"
   ]
  },
  {
   "cell_type": "markdown",
   "metadata": {},
   "source": [
    "### Understanding the data and manupluation"
   ]
  },
  {
   "cell_type": "code",
   "execution_count": 4,
   "metadata": {},
   "outputs": [],
   "source": [
    "# Importing the needed libraries\n",
    "import pandas as pd\n",
    "import seaborn as sns\n",
    "import matplotlib.pyplot as plt\n",
    "from sklearn.model_selection import train_test_split\n",
    "from sklearn import metrics"
   ]
  },
  {
   "cell_type": "code",
   "execution_count": 5,
   "metadata": {},
   "outputs": [
    {
     "data": {
      "text/html": [
       "<div>\n",
       "<style scoped>\n",
       "    .dataframe tbody tr th:only-of-type {\n",
       "        vertical-align: middle;\n",
       "    }\n",
       "\n",
       "    .dataframe tbody tr th {\n",
       "        vertical-align: top;\n",
       "    }\n",
       "\n",
       "    .dataframe thead th {\n",
       "        text-align: right;\n",
       "    }\n",
       "</style>\n",
       "<table border=\"1\" class=\"dataframe\">\n",
       "  <thead>\n",
       "    <tr style=\"text-align: right;\">\n",
       "      <th></th>\n",
       "      <th>Project Name</th>\n",
       "      <th>Specification</th>\n",
       "      <th>BHK</th>\n",
       "      <th>Primary Area</th>\n",
       "      <th>Secondary Area</th>\n",
       "      <th>Area Type</th>\n",
       "      <th>Value</th>\n",
       "    </tr>\n",
       "  </thead>\n",
       "  <tbody>\n",
       "    <tr>\n",
       "      <th>0</th>\n",
       "      <td>Ambrosia Alley</td>\n",
       "      <td>2 BHK Residential Apartment in Hadapsar</td>\n",
       "      <td>2</td>\n",
       "      <td>1022</td>\n",
       "      <td>95</td>\n",
       "      <td>1</td>\n",
       "      <td>78</td>\n",
       "    </tr>\n",
       "    <tr>\n",
       "      <th>1</th>\n",
       "      <td>Ambrosia Alley</td>\n",
       "      <td>1 BHK Residential Apartment in Hadapsar</td>\n",
       "      <td>1</td>\n",
       "      <td>698</td>\n",
       "      <td>65</td>\n",
       "      <td>1</td>\n",
       "      <td>56</td>\n",
       "    </tr>\n",
       "    <tr>\n",
       "      <th>2</th>\n",
       "      <td>Unika</td>\n",
       "      <td>2 BHK Residential Apartment in Hadapsar</td>\n",
       "      <td>2</td>\n",
       "      <td>767</td>\n",
       "      <td>71</td>\n",
       "      <td>0</td>\n",
       "      <td>68</td>\n",
       "    </tr>\n",
       "    <tr>\n",
       "      <th>3</th>\n",
       "      <td>Unika</td>\n",
       "      <td>3 BHK Residential Apartment in Hadapsar</td>\n",
       "      <td>3</td>\n",
       "      <td>955</td>\n",
       "      <td>89</td>\n",
       "      <td>0</td>\n",
       "      <td>90</td>\n",
       "    </tr>\n",
       "    <tr>\n",
       "      <th>4</th>\n",
       "      <td>Nyati Evolve</td>\n",
       "      <td>3 BHK Residential Apartment in Magarpatta</td>\n",
       "      <td>3</td>\n",
       "      <td>963</td>\n",
       "      <td>89</td>\n",
       "      <td>0</td>\n",
       "      <td>106</td>\n",
       "    </tr>\n",
       "  </tbody>\n",
       "</table>\n",
       "</div>"
      ],
      "text/plain": [
       "     Project Name                              Specification  BHK  \\\n",
       "0  Ambrosia Alley    2 BHK Residential Apartment in Hadapsar    2   \n",
       "1  Ambrosia Alley    1 BHK Residential Apartment in Hadapsar    1   \n",
       "2           Unika    2 BHK Residential Apartment in Hadapsar    2   \n",
       "3           Unika    3 BHK Residential Apartment in Hadapsar    3   \n",
       "4    Nyati Evolve  3 BHK Residential Apartment in Magarpatta    3   \n",
       "\n",
       "   Primary Area  Secondary Area  Area Type  Value  \n",
       "0          1022              95          1     78  \n",
       "1           698              65          1     56  \n",
       "2           767              71          0     68  \n",
       "3           955              89          0     90  \n",
       "4           963              89          0    106  "
      ]
     },
     "execution_count": 5,
     "metadata": {},
     "output_type": "execute_result"
    }
   ],
   "source": [
    "data= pd.read_csv(\"projects.csv\")\n",
    "data=data.replace(\"Carpet Area\",0)\n",
    "data=data.replace(\"Super Area\",1)\n",
    "data.head()\n"
   ]
  },
  {
   "cell_type": "code",
   "execution_count": 6,
   "metadata": {
    "scrolled": false
   },
   "outputs": [
    {
     "name": "stdout",
     "output_type": "stream",
     "text": [
      "                     BHK  Primary Area  Secondary Area  Area Type     Value\n",
      "BHK             1.000000      0.769300        0.768985  -0.280248  0.763581\n",
      "Primary Area    0.769300      1.000000        0.999899   0.249722  0.847083\n",
      "Secondary Area  0.768985      0.999899        1.000000   0.252394  0.846220\n",
      "Area Type      -0.280248      0.249722        0.252394   1.000000  0.096641\n",
      "Value           0.763581      0.847083        0.846220   0.096641  1.000000\n"
     ]
    }
   ],
   "source": [
    "#finding correlation\n",
    "names=['BHK','Primary Area','Secondary Area','Area Type','Value']\n",
    "df=data[names]\n",
    "correlations= df.corr()\n",
    "print(correlations)"
   ]
  },
  {
   "cell_type": "markdown",
   "metadata": {},
   "source": [
    "We can see that primary area and secondary area has the maximum corelation with Value"
   ]
  },
  {
   "cell_type": "markdown",
   "metadata": {},
   "source": [
    "## Expolatory Data Analysis"
   ]
  },
  {
   "cell_type": "code",
   "execution_count": 7,
   "metadata": {},
   "outputs": [
    {
     "data": {
      "text/plain": [
       "<AxesSubplot:xlabel='Secondary Area', ylabel='Value'>"
      ]
     },
     "execution_count": 7,
     "metadata": {},
     "output_type": "execute_result"
    },
    {
     "data": {
      "image/png": "[encoded data removed]",
      "text/plain": [
       "<Figure size 432x288 with 1 Axes>"
      ]
     },
     "metadata": {
      "needs_background": "light"
     },
     "output_type": "display_data"
    }
   ],
   "source": [
    "sns.regplot(x='Secondary Area',y='Value',data=data)"
   ]
  },
  {
   "cell_type": "code",
   "execution_count": 8,
   "metadata": {},
   "outputs": [
    {
     "data": {
      "text/plain": [
       "<AxesSubplot:xlabel='BHK', ylabel='Value'>"
      ]
     },
     "execution_count": 8,
     "metadata": {},
     "output_type": "execute_result"
    },
    {
     "data": {
      "image/png": "[encoded data removed]",
      "text/plain": [
       "<Figure size 432x288 with 1 Axes>"
      ]
     },
     "metadata": {
      "needs_background": "light"
     },
     "output_type": "display_data"
    }
   ],
   "source": [
    "sns.stripplot(x='BHK', y='Value',data=data)"
   ]
  },
  {
   "cell_type": "code",
   "execution_count": 9,
   "metadata": {
    "scrolled": true
   },
   "outputs": [
    {
     "data": {
      "text/plain": [
       "<AxesSubplot:xlabel='Secondary Area', ylabel='Value'>"
      ]
     },
     "execution_count": 9,
     "metadata": {},
     "output_type": "execute_result"
    },
    {
     "data": {
      "image/png": "[encoded data removed]",
      "text/plain": [
       "<Figure size 432x288 with 1 Axes>"
      ]
     },
     "metadata": {
      "needs_background": "light"
     },
     "output_type": "display_data"
    }
   ],
   "source": [
    "sns.stripplot(x='Secondary Area', y='Value',data=data, size=5)"
   ]
  },
  {
   "cell_type": "markdown",
   "metadata": {},
   "source": [
    "## Splitting data as test and train"
   ]
  },
  {
   "cell_type": "code",
   "execution_count": 10,
   "metadata": {
    "scrolled": false
   },
   "outputs": [
    {
     "data": {
      "text/html": [
       "<div>\n",
       "<style scoped>\n",
       "    .dataframe tbody tr th:only-of-type {\n",
       "        vertical-align: middle;\n",
       "    }\n",
       "\n",
       "    .dataframe tbody tr th {\n",
       "        vertical-align: top;\n",
       "    }\n",
       "\n",
       "    .dataframe thead th {\n",
       "        text-align: right;\n",
       "    }\n",
       "</style>\n",
       "<table border=\"1\" class=\"dataframe\">\n",
       "  <thead>\n",
       "    <tr style=\"text-align: right;\">\n",
       "      <th></th>\n",
       "      <th>BHK</th>\n",
       "      <th>Primary Area</th>\n",
       "      <th>Secondary Area</th>\n",
       "      <th>Area Type</th>\n",
       "    </tr>\n",
       "  </thead>\n",
       "  <tbody>\n",
       "    <tr>\n",
       "      <th>577</th>\n",
       "      <td>2</td>\n",
       "      <td>767</td>\n",
       "      <td>71</td>\n",
       "      <td>0</td>\n",
       "    </tr>\n",
       "    <tr>\n",
       "      <th>312</th>\n",
       "      <td>1</td>\n",
       "      <td>435</td>\n",
       "      <td>40</td>\n",
       "      <td>0</td>\n",
       "    </tr>\n",
       "    <tr>\n",
       "      <th>122</th>\n",
       "      <td>3</td>\n",
       "      <td>1056</td>\n",
       "      <td>98</td>\n",
       "      <td>0</td>\n",
       "    </tr>\n",
       "    <tr>\n",
       "      <th>569</th>\n",
       "      <td>2</td>\n",
       "      <td>568</td>\n",
       "      <td>53</td>\n",
       "      <td>0</td>\n",
       "    </tr>\n",
       "    <tr>\n",
       "      <th>509</th>\n",
       "      <td>1</td>\n",
       "      <td>430</td>\n",
       "      <td>40</td>\n",
       "      <td>0</td>\n",
       "    </tr>\n",
       "  </tbody>\n",
       "</table>\n",
       "</div>"
      ],
      "text/plain": [
       "     BHK  Primary Area  Secondary Area  Area Type\n",
       "577    2           767              71          0\n",
       "312    1           435              40          0\n",
       "122    3          1056              98          0\n",
       "569    2           568              53          0\n",
       "509    1           430              40          0"
      ]
     },
     "execution_count": 10,
     "metadata": {},
     "output_type": "execute_result"
    }
   ],
   "source": [
    "c=['BHK','Primary Area','Secondary Area','Area Type']\n",
    "df=data[c]\n",
    "y=data['Value']\n",
    "\n",
    "x_train,x_test,y_train,y_test=train_test_split(df,y,train_size=0.8,random_state=0)\n",
    "x_train.head()"
   ]
  },
  {
   "cell_type": "markdown",
   "metadata": {},
   "source": [
    "# Part 3 - Running various models"
   ]
  },
  {
   "cell_type": "markdown",
   "metadata": {},
   "source": [
    "## 1) Linear Regression"
   ]
  },
  {
   "cell_type": "code",
   "execution_count": 11,
   "metadata": {},
   "outputs": [
    {
     "data": {
      "text/plain": [
       "LinearRegression()"
      ]
     },
     "execution_count": 11,
     "metadata": {},
     "output_type": "execute_result"
    }
   ],
   "source": [
    "from sklearn.linear_model import LinearRegression\n",
    "reg=LinearRegression()\n",
    "reg.fit(x_train,y_train)"
   ]
  },
  {
   "cell_type": "code",
   "execution_count": 12,
   "metadata": {
    "scrolled": true
   },
   "outputs": [
    {
     "name": "stdout",
     "output_type": "stream",
     "text": [
      "Error of Linear Regression is around 7.61 Lakh\n"
     ]
    }
   ],
   "source": [
    "linear_pred=reg.predict(x_test)\n",
    "linear_acc=(metrics.mean_absolute_error(y_test,linear_pred))\n",
    "print(\"Error of Linear Regression is around\",round(linear_acc,2),\"Lakh\")"
   ]
  },
  {
   "cell_type": "markdown",
   "metadata": {},
   "source": [
    "## 2) Decision Tree"
   ]
  },
  {
   "cell_type": "code",
   "execution_count": 13,
   "metadata": {},
   "outputs": [
    {
     "data": {
      "text/plain": [
       "DecisionTreeRegressor()"
      ]
     },
     "execution_count": 13,
     "metadata": {},
     "output_type": "execute_result"
    }
   ],
   "source": [
    "from sklearn.tree import DecisionTreeRegressor\n",
    "tr_regressor = DecisionTreeRegressor()\n",
    "tr_regressor.fit(x_train,y_train)\n"
   ]
  },
  {
   "cell_type": "code",
   "execution_count": 14,
   "metadata": {
    "scrolled": true
   },
   "outputs": [
    {
     "name": "stdout",
     "output_type": "stream",
     "text": [
      "Error of Decision Tree Regression is around 0.36 Lakh\n"
     ]
    }
   ],
   "source": [
    "tr_pred=tr_regressor.predict(x_test)\n",
    "tr_acc=(metrics.mean_absolute_error(y_test,tr_pred))\n",
    "print(\"Error of Decision Tree Regression is around\",round(tr_acc,2),\"Lakh\")"
   ]
  },
  {
   "cell_type": "markdown",
   "metadata": {},
   "source": [
    "## 3) Random Forest"
   ]
  },
  {
   "cell_type": "code",
   "execution_count": 15,
   "metadata": {},
   "outputs": [
    {
     "data": {
      "text/plain": [
       "RandomForestRegressor(max_depth=12)"
      ]
     },
     "execution_count": 15,
     "metadata": {},
     "output_type": "execute_result"
    }
   ],
   "source": [
    "from sklearn.ensemble import RandomForestRegressor\n",
    "random_forest = RandomForestRegressor(max_depth = 12)\n",
    "random_forest.fit(x_test,y_test)"
   ]
  },
  {
   "cell_type": "code",
   "execution_count": 16,
   "metadata": {},
   "outputs": [
    {
     "name": "stdout",
     "output_type": "stream",
     "text": [
      "Error of Random forest Regression is around 0.47 Lakh\n"
     ]
    }
   ],
   "source": [
    "rf_pred=random_forest.predict(x_test)\n",
    "rf_acc=(metrics.mean_absolute_error(y_test,rf_pred))\n",
    "print(\"Error of Random forest Regression is around\",round(rf_acc,2),\"Lakh\")"
   ]
  },
  {
   "cell_type": "markdown",
   "metadata": {},
   "source": [
    "# 4) Gradient Boosting Regressor"
   ]
  },
  {
   "cell_type": "code",
   "execution_count": 17,
   "metadata": {},
   "outputs": [
    {
     "data": {
      "text/plain": [
       "GradientBoostingRegressor()"
      ]
     },
     "execution_count": 17,
     "metadata": {},
     "output_type": "execute_result"
    }
   ],
   "source": [
    "from sklearn import ensemble\n",
    "gbr = ensemble.GradientBoostingRegressor()\n",
    "\n",
    "gbr.fit(x_train, y_train)"
   ]
  },
  {
   "cell_type": "code",
   "execution_count": 18,
   "metadata": {},
   "outputs": [
    {
     "name": "stdout",
     "output_type": "stream",
     "text": [
      "Error of Random forest Regression is around 0.86 Lakh\n"
     ]
    }
   ],
   "source": [
    "gbr_pred=gbr.predict(x_test)\n",
    "gbr_acc=(metrics.mean_absolute_error(y_test,gbr_pred))\n",
    "print(\"Error of Random forest Regression is around\",round(gbr_acc,2),\"Lakh\")"
   ]
  },
  {
   "cell_type": "markdown",
   "metadata": {},
   "source": [
    "# Conclusion"
   ]
  },
  {
   "cell_type": "code",
   "execution_count": 19,
   "metadata": {},
   "outputs": [
    {
     "name": "stdout",
     "output_type": "stream",
     "text": [
      "Linear Regression Model Error is  7.61 Lakh\n",
      "Decision tree  Regression Model Error is  0.36 Lakh\n",
      "Random Forest Regression Model Error is  0.47 Lakh\n",
      "Gradient Boosting Regression Model Error is  0.86 Lakh\n"
     ]
    }
   ],
   "source": [
    "print(\"Linear Regression Model Error is \",round(linear_acc,2),\"Lakh\")\n",
    "print(\"Decision tree  Regression Model Error is \",round(tr_acc,2),\"Lakh\")\n",
    "print(\"Random Forest Regression Model Error is \",round(rf_acc,2),\"Lakh\")\n",
    "print(\"Gradient Boosting Regression Model Error is \",round(gbr_acc,2),\"Lakh\")"
   ]
  },
  {
   "cell_type": "markdown",
   "metadata": {},
   "source": [
    "Therefore the best model for this scenario seems to be Decision tree Regressor"
   ]
  }
 ],
 "metadata": {
  "kernelspec": {
   "display_name": "Python 3",
   "language": "python",
   "name": "python3"
  },
  "language_info": {
   "codemirror_mode": {
    "name": "ipython",
    "version": 3
   },
   "file_extension": ".py",
   "mimetype": "text/x-python",
   "name": "python",
   "nbconvert_exporter": "python",
   "pygments_lexer": "ipython3",
   "version": "3.8.5"
  }
 },
 "nbformat": 4,
 "nbformat_minor": 4
}
